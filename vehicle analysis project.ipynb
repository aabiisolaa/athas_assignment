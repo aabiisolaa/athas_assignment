{
 "cells": [
  {
   "cell_type": "markdown",
   "id": "51a019a6",
   "metadata": {},
   "source": [
    "DATA ANALYSIS AND PREDICTION OF PRICE WITH THE USE OF LINEAR REGRESSION"
   ]
  },
  {
   "cell_type": "markdown",
   "id": "afaef637",
   "metadata": {},
   "source": [
    "INTRODUCTION\n",
    "\n",
    "The vehicle trade data is a project that includes the classification of various vehicles based on various features like mileage, standard colour, fuel_type, standard model,e.t.c.\n",
    "The vehicle trade data was analyzed and also the most probable price of each vehicle was predicted by the use of linear regression.\n",
    "The main focus of this project is to analyze the used vehicles based on their prices from the available data set."
   ]
  },
  {
   "cell_type": "markdown",
   "id": "331275c1",
   "metadata": {},
   "source": [
    "ALL NECESSARY IMPORTS"
   ]
  },
  {
   "cell_type": "code",
   "execution_count": 1,
   "id": "8a84cabb",
   "metadata": {},
   "outputs": [],
   "source": [
    "import warnings\n",
    "warnings.filterwarnings('ignore')\n",
    "\n",
    "#importing the libraries\n",
    "import numpy as np\n",
    "import matplotlib.pyplot as plt\n",
    "import pandas as pd\n",
    "import seaborn as sns\n",
    "from sklearn.linear_model import LinearRegression\n",
    "from sklearn.model_selection import train_test_split\n",
    "from sklearn.metrics import accuracy_score\n",
    "from sklearn.metrics import confusion_matrix\n",
    "sns.set()"
   ]
  },
  {
   "cell_type": "markdown",
   "id": "48b3731e",
   "metadata": {},
   "source": [
    "READING AND UNDERSTANDING THE DATA"
   ]
  },
  {
   "cell_type": "markdown",
   "id": "b3522af9",
   "metadata": {},
   "source": [
    "UNDERSTANDING THE DATA COLUMNS\n",
    "\n",
    "-public_reference: No actionable information could be gotten from this variable.\n",
    "\n",
    "-mileage: The average number of miles travelled by a vehicle.\n",
    "\n",
    "-reg_code: No actionable information could be gotten from this variable.\n",
    "\n",
    "-standard_colour: The colour of the vehicle at the time of sales. There's 5 in total:\n",
    "                    ~Grey\n",
    "                    ~Blue\n",
    "                    ~Black\n",
    "                    ~White\n",
    "                    ~Silver\n",
    "                    \n",
    "-standard_make: This refers to the brands of the vehicles. There's a total of 11:\n",
    "(MINI, Volkswagen, Mercedes-Benz, Vauxhall, Nissan, BMW, Toyota, Audi, Renault, Fiat, Kia)\n",
    "\n",
    "-standard_model: This refers to the name of the vehicle, i.e the name given by the manufacturer. There are 19 in total:\n",
    "('Hatch', 'Golf', 'C Class', 'Corsa', 'Qashqai', 'Yaris', 'Polo','Astra', 'A1', 'E Class', 'Clio', 'A Class', '5 Series','1 Series', '500', 'A3', 'Sportage', '3 Series', 'Juke')\n",
    "\n",
    "-vehicle_condition: This refers to the state of the vehicle, i.e whether it has been used or not. All vehicles in the data set have been USED.\n",
    "\n",
    "-year_of_registration: This is when the vehicle was first registered.\n",
    "\n",
    "-price: This refers to how much the vehicle costs.\n",
    "\n",
    "-body_type: This refers to the shape of the vehicle or how the vehicle looks. They include:\n",
    "            ~Hatchback\n",
    "            ~Estate\n",
    "            ~Saloon\n",
    "            ~SUV\n",
    "            ~Coupe\n",
    "            \n",
    "-crossover_car_and_van: This refers to whether a vehicle is a crossover type or a van type:\n",
    "                        ~FALSE\n",
    "                        \n",
    "-fuel_type: This refers to what the vehicle runs on or the kind of fuel that propels the vehicle.\n",
    "\n",
    "-make_model: This is the combination of the make or brand columns of the vehicle and the model columns of the vehicle.\n",
    "\n",
    "-age: An estimation from the year of registration to the current year."
   ]
  },
  {
   "cell_type": "code",
   "execution_count": 2,
   "id": "22a8d680",
   "metadata": {},
   "outputs": [
    {
     "data": {
      "text/html": [
       "<div>\n",
       "<style scoped>\n",
       "    .dataframe tbody tr th:only-of-type {\n",
       "        vertical-align: middle;\n",
       "    }\n",
       "\n",
       "    .dataframe tbody tr th {\n",
       "        vertical-align: top;\n",
       "    }\n",
       "\n",
       "    .dataframe thead th {\n",
       "        text-align: right;\n",
       "    }\n",
       "</style>\n",
       "<table border=\"1\" class=\"dataframe\">\n",
       "  <thead>\n",
       "    <tr style=\"text-align: right;\">\n",
       "      <th></th>\n",
       "      <th>public_reference</th>\n",
       "      <th>mileage</th>\n",
       "      <th>reg_code</th>\n",
       "      <th>standard_colour</th>\n",
       "      <th>standard_make</th>\n",
       "      <th>standard_model</th>\n",
       "      <th>vehicle_condition</th>\n",
       "      <th>year_of_registration</th>\n",
       "      <th>price</th>\n",
       "      <th>body_type</th>\n",
       "      <th>crossover_car_and_van</th>\n",
       "      <th>fuel_type</th>\n",
       "      <th>make_model</th>\n",
       "      <th>age</th>\n",
       "    </tr>\n",
       "  </thead>\n",
       "  <tbody>\n",
       "    <tr>\n",
       "      <th>0</th>\n",
       "      <td>202010014440649</td>\n",
       "      <td>31534.0</td>\n",
       "      <td>17</td>\n",
       "      <td>Grey</td>\n",
       "      <td>MINI</td>\n",
       "      <td>Hatch</td>\n",
       "      <td>USED</td>\n",
       "      <td>2017.0</td>\n",
       "      <td>19000</td>\n",
       "      <td>Hatchback</td>\n",
       "      <td>False</td>\n",
       "      <td>Petrol</td>\n",
       "      <td>MINI - Hatch</td>\n",
       "      <td>5</td>\n",
       "    </tr>\n",
       "    <tr>\n",
       "      <th>1</th>\n",
       "      <td>202010155026725</td>\n",
       "      <td>52023.0</td>\n",
       "      <td>66</td>\n",
       "      <td>Blue</td>\n",
       "      <td>Volkswagen</td>\n",
       "      <td>Golf</td>\n",
       "      <td>USED</td>\n",
       "      <td>2016.0</td>\n",
       "      <td>13500</td>\n",
       "      <td>Estate</td>\n",
       "      <td>False</td>\n",
       "      <td>Diesel</td>\n",
       "      <td>Volkswagen - Golf</td>\n",
       "      <td>6</td>\n",
       "    </tr>\n",
       "    <tr>\n",
       "      <th>2</th>\n",
       "      <td>202008142485309</td>\n",
       "      <td>29500.0</td>\n",
       "      <td>12</td>\n",
       "      <td>Grey</td>\n",
       "      <td>Mercedes-Benz</td>\n",
       "      <td>C Class</td>\n",
       "      <td>USED</td>\n",
       "      <td>2012.0</td>\n",
       "      <td>9495</td>\n",
       "      <td>Saloon</td>\n",
       "      <td>False</td>\n",
       "      <td>Petrol</td>\n",
       "      <td>Mercedes-Benz - C Class</td>\n",
       "      <td>10</td>\n",
       "    </tr>\n",
       "    <tr>\n",
       "      <th>3</th>\n",
       "      <td>202009183894045</td>\n",
       "      <td>35300.0</td>\n",
       "      <td>18</td>\n",
       "      <td>Grey</td>\n",
       "      <td>Vauxhall</td>\n",
       "      <td>Corsa</td>\n",
       "      <td>USED</td>\n",
       "      <td>2018.0</td>\n",
       "      <td>7293</td>\n",
       "      <td>Hatchback</td>\n",
       "      <td>False</td>\n",
       "      <td>Petrol</td>\n",
       "      <td>Vauxhall - Corsa</td>\n",
       "      <td>4</td>\n",
       "    </tr>\n",
       "    <tr>\n",
       "      <th>4</th>\n",
       "      <td>202010014441671</td>\n",
       "      <td>47299.0</td>\n",
       "      <td>65</td>\n",
       "      <td>Black</td>\n",
       "      <td>Nissan</td>\n",
       "      <td>Qashqai</td>\n",
       "      <td>USED</td>\n",
       "      <td>2016.0</td>\n",
       "      <td>11500</td>\n",
       "      <td>SUV</td>\n",
       "      <td>False</td>\n",
       "      <td>Diesel</td>\n",
       "      <td>Nissan - Qashqai</td>\n",
       "      <td>6</td>\n",
       "    </tr>\n",
       "    <tr>\n",
       "      <th>...</th>\n",
       "      <td>...</td>\n",
       "      <td>...</td>\n",
       "      <td>...</td>\n",
       "      <td>...</td>\n",
       "      <td>...</td>\n",
       "      <td>...</td>\n",
       "      <td>...</td>\n",
       "      <td>...</td>\n",
       "      <td>...</td>\n",
       "      <td>...</td>\n",
       "      <td>...</td>\n",
       "      <td>...</td>\n",
       "      <td>...</td>\n",
       "      <td>...</td>\n",
       "    </tr>\n",
       "    <tr>\n",
       "      <th>96264</th>\n",
       "      <td>202010295556637</td>\n",
       "      <td>28225.0</td>\n",
       "      <td>17</td>\n",
       "      <td>White</td>\n",
       "      <td>Mercedes-Benz</td>\n",
       "      <td>C Class</td>\n",
       "      <td>USED</td>\n",
       "      <td>2017.0</td>\n",
       "      <td>18499</td>\n",
       "      <td>Saloon</td>\n",
       "      <td>False</td>\n",
       "      <td>Diesel</td>\n",
       "      <td>Mercedes-Benz - C Class</td>\n",
       "      <td>5</td>\n",
       "    </tr>\n",
       "    <tr>\n",
       "      <th>96265</th>\n",
       "      <td>202010305614799</td>\n",
       "      <td>122000.0</td>\n",
       "      <td>07</td>\n",
       "      <td>Silver</td>\n",
       "      <td>BMW</td>\n",
       "      <td>3 Series</td>\n",
       "      <td>USED</td>\n",
       "      <td>2007.0</td>\n",
       "      <td>1990</td>\n",
       "      <td>Saloon</td>\n",
       "      <td>False</td>\n",
       "      <td>Petrol</td>\n",
       "      <td>BMW - 3 Series</td>\n",
       "      <td>15</td>\n",
       "    </tr>\n",
       "    <tr>\n",
       "      <th>96266</th>\n",
       "      <td>202010315639231</td>\n",
       "      <td>45000.0</td>\n",
       "      <td>15</td>\n",
       "      <td>Silver</td>\n",
       "      <td>Vauxhall</td>\n",
       "      <td>Corsa</td>\n",
       "      <td>USED</td>\n",
       "      <td>2015.0</td>\n",
       "      <td>5000</td>\n",
       "      <td>Hatchback</td>\n",
       "      <td>False</td>\n",
       "      <td>Petrol</td>\n",
       "      <td>Vauxhall - Corsa</td>\n",
       "      <td>7</td>\n",
       "    </tr>\n",
       "    <tr>\n",
       "      <th>96267</th>\n",
       "      <td>202010315647416</td>\n",
       "      <td>4075.0</td>\n",
       "      <td>69</td>\n",
       "      <td>Grey</td>\n",
       "      <td>Nissan</td>\n",
       "      <td>Juke</td>\n",
       "      <td>USED</td>\n",
       "      <td>2019.0</td>\n",
       "      <td>18000</td>\n",
       "      <td>SUV</td>\n",
       "      <td>False</td>\n",
       "      <td>Petrol</td>\n",
       "      <td>Nissan - Juke</td>\n",
       "      <td>3</td>\n",
       "    </tr>\n",
       "    <tr>\n",
       "      <th>96268</th>\n",
       "      <td>202010315659271</td>\n",
       "      <td>52760.0</td>\n",
       "      <td>62</td>\n",
       "      <td>White</td>\n",
       "      <td>Nissan</td>\n",
       "      <td>Qashqai</td>\n",
       "      <td>USED</td>\n",
       "      <td>2012.0</td>\n",
       "      <td>7250</td>\n",
       "      <td>SUV</td>\n",
       "      <td>False</td>\n",
       "      <td>Petrol</td>\n",
       "      <td>Nissan - Qashqai</td>\n",
       "      <td>10</td>\n",
       "    </tr>\n",
       "  </tbody>\n",
       "</table>\n",
       "<p>96269 rows × 14 columns</p>\n",
       "</div>"
      ],
      "text/plain": [
       "       public_reference   mileage reg_code standard_colour  standard_make  \\\n",
       "0       202010014440649   31534.0       17            Grey           MINI   \n",
       "1       202010155026725   52023.0       66            Blue     Volkswagen   \n",
       "2       202008142485309   29500.0       12            Grey  Mercedes-Benz   \n",
       "3       202009183894045   35300.0       18            Grey       Vauxhall   \n",
       "4       202010014441671   47299.0       65           Black         Nissan   \n",
       "...                 ...       ...      ...             ...            ...   \n",
       "96264   202010295556637   28225.0       17           White  Mercedes-Benz   \n",
       "96265   202010305614799  122000.0       07          Silver            BMW   \n",
       "96266   202010315639231   45000.0       15          Silver       Vauxhall   \n",
       "96267   202010315647416    4075.0       69            Grey         Nissan   \n",
       "96268   202010315659271   52760.0       62           White         Nissan   \n",
       "\n",
       "      standard_model vehicle_condition  year_of_registration  price  \\\n",
       "0              Hatch              USED                2017.0  19000   \n",
       "1               Golf              USED                2016.0  13500   \n",
       "2            C Class              USED                2012.0   9495   \n",
       "3              Corsa              USED                2018.0   7293   \n",
       "4            Qashqai              USED                2016.0  11500   \n",
       "...              ...               ...                   ...    ...   \n",
       "96264        C Class              USED                2017.0  18499   \n",
       "96265       3 Series              USED                2007.0   1990   \n",
       "96266          Corsa              USED                2015.0   5000   \n",
       "96267           Juke              USED                2019.0  18000   \n",
       "96268        Qashqai              USED                2012.0   7250   \n",
       "\n",
       "       body_type  crossover_car_and_van fuel_type               make_model  \\\n",
       "0      Hatchback                  False    Petrol             MINI - Hatch   \n",
       "1         Estate                  False    Diesel        Volkswagen - Golf   \n",
       "2         Saloon                  False    Petrol  Mercedes-Benz - C Class   \n",
       "3      Hatchback                  False    Petrol         Vauxhall - Corsa   \n",
       "4            SUV                  False    Diesel         Nissan - Qashqai   \n",
       "...          ...                    ...       ...                      ...   \n",
       "96264     Saloon                  False    Diesel  Mercedes-Benz - C Class   \n",
       "96265     Saloon                  False    Petrol           BMW - 3 Series   \n",
       "96266  Hatchback                  False    Petrol         Vauxhall - Corsa   \n",
       "96267        SUV                  False    Petrol            Nissan - Juke   \n",
       "96268        SUV                  False    Petrol         Nissan - Qashqai   \n",
       "\n",
       "       age  \n",
       "0        5  \n",
       "1        6  \n",
       "2       10  \n",
       "3        4  \n",
       "4        6  \n",
       "...    ...  \n",
       "96264    5  \n",
       "96265   15  \n",
       "96266    7  \n",
       "96267    3  \n",
       "96268   10  \n",
       "\n",
       "[96269 rows x 14 columns]"
      ]
     },
     "execution_count": 2,
     "metadata": {},
     "output_type": "execute_result"
    }
   ],
   "source": [
    "cars = pd.read_csv(\"vehicle_trade_data.csv\")\n",
    "cars"
   ]
  },
  {
   "cell_type": "code",
   "execution_count": 3,
   "id": "4b9112ac",
   "metadata": {},
   "outputs": [
    {
     "data": {
      "text/html": [
       "<div>\n",
       "<style scoped>\n",
       "    .dataframe tbody tr th:only-of-type {\n",
       "        vertical-align: middle;\n",
       "    }\n",
       "\n",
       "    .dataframe tbody tr th {\n",
       "        vertical-align: top;\n",
       "    }\n",
       "\n",
       "    .dataframe thead th {\n",
       "        text-align: right;\n",
       "    }\n",
       "</style>\n",
       "<table border=\"1\" class=\"dataframe\">\n",
       "  <thead>\n",
       "    <tr style=\"text-align: right;\">\n",
       "      <th></th>\n",
       "      <th>reg_code</th>\n",
       "      <th>standard_colour</th>\n",
       "      <th>standard_make</th>\n",
       "      <th>standard_model</th>\n",
       "      <th>vehicle_condition</th>\n",
       "      <th>body_type</th>\n",
       "      <th>fuel_type</th>\n",
       "      <th>make_model</th>\n",
       "    </tr>\n",
       "  </thead>\n",
       "  <tbody>\n",
       "    <tr>\n",
       "      <th>count</th>\n",
       "      <td>96257</td>\n",
       "      <td>96269</td>\n",
       "      <td>96269</td>\n",
       "      <td>96269</td>\n",
       "      <td>96269</td>\n",
       "      <td>96269</td>\n",
       "      <td>96269</td>\n",
       "      <td>96269</td>\n",
       "    </tr>\n",
       "    <tr>\n",
       "      <th>unique</th>\n",
       "      <td>58</td>\n",
       "      <td>5</td>\n",
       "      <td>11</td>\n",
       "      <td>19</td>\n",
       "      <td>1</td>\n",
       "      <td>5</td>\n",
       "      <td>2</td>\n",
       "      <td>19</td>\n",
       "    </tr>\n",
       "    <tr>\n",
       "      <th>top</th>\n",
       "      <td>17</td>\n",
       "      <td>Black</td>\n",
       "      <td>BMW</td>\n",
       "      <td>Golf</td>\n",
       "      <td>USED</td>\n",
       "      <td>Hatchback</td>\n",
       "      <td>Petrol</td>\n",
       "      <td>Volkswagen - Golf</td>\n",
       "    </tr>\n",
       "    <tr>\n",
       "      <th>freq</th>\n",
       "      <td>10218</td>\n",
       "      <td>26479</td>\n",
       "      <td>16585</td>\n",
       "      <td>8975</td>\n",
       "      <td>96269</td>\n",
       "      <td>59227</td>\n",
       "      <td>54805</td>\n",
       "      <td>8975</td>\n",
       "    </tr>\n",
       "  </tbody>\n",
       "</table>\n",
       "</div>"
      ],
      "text/plain": [
       "       reg_code standard_colour standard_make standard_model  \\\n",
       "count     96257           96269         96269          96269   \n",
       "unique       58               5            11             19   \n",
       "top          17           Black           BMW           Golf   \n",
       "freq      10218           26479         16585           8975   \n",
       "\n",
       "       vehicle_condition  body_type fuel_type         make_model  \n",
       "count              96269      96269     96269              96269  \n",
       "unique                 1          5         2                 19  \n",
       "top                 USED  Hatchback    Petrol  Volkswagen - Golf  \n",
       "freq               96269      59227     54805               8975  "
      ]
     },
     "execution_count": 3,
     "metadata": {},
     "output_type": "execute_result"
    }
   ],
   "source": [
    "cars.describe(include=['O'])"
   ]
  },
  {
   "cell_type": "code",
   "execution_count": 4,
   "id": "5d510e82",
   "metadata": {},
   "outputs": [
    {
     "data": {
      "text/plain": [
       "(96269, 14)"
      ]
     },
     "execution_count": 4,
     "metadata": {},
     "output_type": "execute_result"
    }
   ],
   "source": [
    "cars.shape"
   ]
  },
  {
   "cell_type": "code",
   "execution_count": 5,
   "id": "7d409589",
   "metadata": {},
   "outputs": [
    {
     "data": {
      "text/plain": [
       "array(['Grey', 'Blue', 'Black', 'Silver', 'White'], dtype=object)"
      ]
     },
     "execution_count": 5,
     "metadata": {},
     "output_type": "execute_result"
    }
   ],
   "source": [
    "cars.standard_colour.unique()"
   ]
  },
  {
   "cell_type": "code",
   "execution_count": 6,
   "id": "3c34e9e3",
   "metadata": {},
   "outputs": [
    {
     "data": {
      "text/plain": [
       "array(['MINI', 'Volkswagen', 'Mercedes-Benz', 'Vauxhall', 'Nissan',\n",
       "       'Toyota', 'Audi', 'Renault', 'BMW', 'Fiat', 'Kia'], dtype=object)"
      ]
     },
     "execution_count": 6,
     "metadata": {},
     "output_type": "execute_result"
    }
   ],
   "source": [
    "cars.standard_make.unique()"
   ]
  },
  {
   "cell_type": "code",
   "execution_count": 7,
   "id": "279a12c3",
   "metadata": {},
   "outputs": [
    {
     "data": {
      "text/plain": [
       "array(['Hatch', 'Golf', 'C Class', 'Corsa', 'Qashqai', 'Yaris', 'Polo',\n",
       "       'Astra', 'A1', 'E Class', 'Clio', 'A Class', '5 Series',\n",
       "       '1 Series', '500', 'A3', 'Sportage', '3 Series', 'Juke'],\n",
       "      dtype=object)"
      ]
     },
     "execution_count": 7,
     "metadata": {},
     "output_type": "execute_result"
    }
   ],
   "source": [
    "cars.standard_model.unique()"
   ]
  },
  {
   "cell_type": "code",
   "execution_count": 8,
   "id": "86c13b0b",
   "metadata": {},
   "outputs": [
    {
     "data": {
      "text/plain": [
       "array(['Hatchback', 'Estate', 'Saloon', 'SUV', 'Coupe'], dtype=object)"
      ]
     },
     "execution_count": 8,
     "metadata": {},
     "output_type": "execute_result"
    }
   ],
   "source": [
    "cars.body_type.unique()"
   ]
  },
  {
   "cell_type": "code",
   "execution_count": 9,
   "id": "426fac33",
   "metadata": {},
   "outputs": [
    {
     "data": {
      "text/plain": [
       "array(['Petrol', 'Diesel'], dtype=object)"
      ]
     },
     "execution_count": 9,
     "metadata": {},
     "output_type": "execute_result"
    }
   ],
   "source": [
    "cars.fuel_type.unique()"
   ]
  },
  {
   "cell_type": "code",
   "execution_count": 10,
   "id": "52a11de3",
   "metadata": {},
   "outputs": [
    {
     "data": {
      "text/plain": [
       "array(['MINI - Hatch', 'Volkswagen - Golf', 'Mercedes-Benz - C Class',\n",
       "       'Vauxhall - Corsa', 'Nissan - Qashqai', 'Toyota - Yaris',\n",
       "       'Volkswagen - Polo', 'Vauxhall - Astra', 'Audi - A1',\n",
       "       'Mercedes-Benz - E Class', 'Renault - Clio',\n",
       "       'Mercedes-Benz - A Class', 'BMW - 5 Series', 'BMW - 1 Series',\n",
       "       'Fiat - 500', 'Audi - A3', 'Kia - Sportage', 'BMW - 3 Series',\n",
       "       'Nissan - Juke'], dtype=object)"
      ]
     },
     "execution_count": 10,
     "metadata": {},
     "output_type": "execute_result"
    }
   ],
   "source": [
    "cars.make_model.unique()"
   ]
  },
  {
   "cell_type": "code",
   "execution_count": 11,
   "id": "1e622356",
   "metadata": {},
   "outputs": [
    {
     "data": {
      "text/plain": [
       "array([ 5,  6, 10,  4,  3,  8, 13, 11,  2, 12,  7, 14,  9, 20, 15, 18, 16,\n",
       "       19, 24, 17, 28, 27, 21, 22, 25, 23, 26, 32, 36, 39, 33, 29, 30, 34,\n",
       "       31, 52, 60, 59], dtype=int64)"
      ]
     },
     "execution_count": 11,
     "metadata": {},
     "output_type": "execute_result"
    }
   ],
   "source": [
    "cars.age.unique()"
   ]
  },
  {
   "cell_type": "code",
   "execution_count": 12,
   "id": "630e2e4e",
   "metadata": {},
   "outputs": [
    {
     "data": {
      "text/plain": [
       "array([2017., 2016., 2012., 2018., 2019., 2014., 2009., 2011., 2020.,\n",
       "       2010., 2015., 2008., 2013., 2002., 2007., 2004., 2006., 2003.,\n",
       "       1998., 2005., 1994., 1995., 2001., 2000., 1997., 1999., 1996.,\n",
       "       1990., 1986., 1983., 1989., 1993., 1992., 1988., 1991., 1970.,\n",
       "       1962., 1963.])"
      ]
     },
     "execution_count": 12,
     "metadata": {},
     "output_type": "execute_result"
    }
   ],
   "source": [
    "cars.year_of_registration.unique()"
   ]
  },
  {
   "cell_type": "code",
   "execution_count": 13,
   "id": "95dff0b5",
   "metadata": {},
   "outputs": [
    {
     "data": {
      "text/plain": [
       "16986"
      ]
     },
     "execution_count": 13,
     "metadata": {},
     "output_type": "execute_result"
    }
   ],
   "source": [
    "count_colour = cars['standard_colour']==\"Grey\"\n",
    "count_colour.sum()"
   ]
  },
  {
   "cell_type": "markdown",
   "id": "2ecac1e1",
   "metadata": {},
   "source": [
    "INFERENCE:\n",
    "\n",
    "    QUANTITATIVE DATA\n",
    "\n",
    "mileage has a total of 96247 non null data enteries out of a total of 96269 data entries which goes to show that some values are missing. The metrics include:\n",
    "       -Average mileage = 42964.06\n",
    "       -Maximum mileage = 999999.0\n",
    "       -Standard deviation = 34051.70\n",
    "       \n",
    "Mileage has irregularities which would have to be looked into.\n",
    "\n",
    "Year of Registration has 96269 non null entries, which implies that there are no missinng values. Metrics are as follows:\n",
    "    -Average Year = 2015\n",
    "    -Maximum Year = 2020\n",
    "    -Standard deviation =3.7\n",
    "    \n",
    "Price has a total of 96269 non null data entries which implies that there are no missing values. Metrics include:\n",
    "    -Average Price = 12266.08\n",
    "    -Maximum Price = 158500.0\n",
    "    -Standard deviation = 7414.82\n",
    "    \n",
    "Age has 96269 entries in total which means that there are no missing values. Metrics include:\n",
    "    -Average age = 6.90\n",
    "    -Maximum age = 60.0\n",
    "    -Standard deviation = 3.7\n",
    "    \n",
    "Year of registration and Age has been shown to have the same standard deviation which goes to show a possibility that the one is an estimation from the other."
   ]
  },
  {
   "cell_type": "code",
   "execution_count": 14,
   "id": "59286828",
   "metadata": {},
   "outputs": [
    {
     "data": {
      "text/html": [
       "<div>\n",
       "<style scoped>\n",
       "    .dataframe tbody tr th:only-of-type {\n",
       "        vertical-align: middle;\n",
       "    }\n",
       "\n",
       "    .dataframe tbody tr th {\n",
       "        vertical-align: top;\n",
       "    }\n",
       "\n",
       "    .dataframe thead th {\n",
       "        text-align: right;\n",
       "    }\n",
       "</style>\n",
       "<table border=\"1\" class=\"dataframe\">\n",
       "  <thead>\n",
       "    <tr style=\"text-align: right;\">\n",
       "      <th></th>\n",
       "      <th>public_reference</th>\n",
       "      <th>mileage</th>\n",
       "      <th>year_of_registration</th>\n",
       "      <th>price</th>\n",
       "      <th>age</th>\n",
       "    </tr>\n",
       "  </thead>\n",
       "  <tbody>\n",
       "    <tr>\n",
       "      <th>count</th>\n",
       "      <td>9.626900e+04</td>\n",
       "      <td>96247.000000</td>\n",
       "      <td>96269.000000</td>\n",
       "      <td>96269.000000</td>\n",
       "      <td>96269.000000</td>\n",
       "    </tr>\n",
       "    <tr>\n",
       "      <th>mean</th>\n",
       "      <td>2.020082e+14</td>\n",
       "      <td>42964.067150</td>\n",
       "      <td>2015.096075</td>\n",
       "      <td>12266.081615</td>\n",
       "      <td>6.903925</td>\n",
       "    </tr>\n",
       "    <tr>\n",
       "      <th>std</th>\n",
       "      <td>1.194558e+10</td>\n",
       "      <td>34051.708175</td>\n",
       "      <td>3.766205</td>\n",
       "      <td>7414.823331</td>\n",
       "      <td>3.766205</td>\n",
       "    </tr>\n",
       "    <tr>\n",
       "      <th>min</th>\n",
       "      <td>2.014120e+14</td>\n",
       "      <td>0.000000</td>\n",
       "      <td>1962.000000</td>\n",
       "      <td>200.000000</td>\n",
       "      <td>2.000000</td>\n",
       "    </tr>\n",
       "    <tr>\n",
       "      <th>25%</th>\n",
       "      <td>2.020091e+14</td>\n",
       "      <td>17000.000000</td>\n",
       "      <td>2013.000000</td>\n",
       "      <td>6999.000000</td>\n",
       "      <td>4.000000</td>\n",
       "    </tr>\n",
       "    <tr>\n",
       "      <th>50%</th>\n",
       "      <td>2.020100e+14</td>\n",
       "      <td>34352.000000</td>\n",
       "      <td>2016.000000</td>\n",
       "      <td>11030.000000</td>\n",
       "      <td>6.000000</td>\n",
       "    </tr>\n",
       "    <tr>\n",
       "      <th>75%</th>\n",
       "      <td>2.020102e+14</td>\n",
       "      <td>62000.000000</td>\n",
       "      <td>2018.000000</td>\n",
       "      <td>15999.000000</td>\n",
       "      <td>9.000000</td>\n",
       "    </tr>\n",
       "    <tr>\n",
       "      <th>max</th>\n",
       "      <td>2.020110e+14</td>\n",
       "      <td>999999.000000</td>\n",
       "      <td>2020.000000</td>\n",
       "      <td>158500.000000</td>\n",
       "      <td>60.000000</td>\n",
       "    </tr>\n",
       "  </tbody>\n",
       "</table>\n",
       "</div>"
      ],
      "text/plain": [
       "       public_reference        mileage  year_of_registration          price  \\\n",
       "count      9.626900e+04   96247.000000          96269.000000   96269.000000   \n",
       "mean       2.020082e+14   42964.067150           2015.096075   12266.081615   \n",
       "std        1.194558e+10   34051.708175              3.766205    7414.823331   \n",
       "min        2.014120e+14       0.000000           1962.000000     200.000000   \n",
       "25%        2.020091e+14   17000.000000           2013.000000    6999.000000   \n",
       "50%        2.020100e+14   34352.000000           2016.000000   11030.000000   \n",
       "75%        2.020102e+14   62000.000000           2018.000000   15999.000000   \n",
       "max        2.020110e+14  999999.000000           2020.000000  158500.000000   \n",
       "\n",
       "                age  \n",
       "count  96269.000000  \n",
       "mean       6.903925  \n",
       "std        3.766205  \n",
       "min        2.000000  \n",
       "25%        4.000000  \n",
       "50%        6.000000  \n",
       "75%        9.000000  \n",
       "max       60.000000  "
      ]
     },
     "execution_count": 14,
     "metadata": {},
     "output_type": "execute_result"
    }
   ],
   "source": [
    "cars.describe()"
   ]
  },
  {
   "cell_type": "code",
   "execution_count": 15,
   "id": "6fb74ac1",
   "metadata": {},
   "outputs": [
    {
     "data": {
      "text/plain": [
       "27.5052197488288"
      ]
     },
     "execution_count": 15,
     "metadata": {},
     "output_type": "execute_result"
    }
   ],
   "source": [
    "sum_most= (cars['standard_colour']=='Black').sum()\n",
    "(sum_most/len(cars.standard_colour))*100"
   ]
  },
  {
   "cell_type": "code",
   "execution_count": 16,
   "id": "fd2db1c3",
   "metadata": {},
   "outputs": [
    {
     "data": {
      "text/plain": [
       "17.227768025013244"
      ]
     },
     "execution_count": 16,
     "metadata": {},
     "output_type": "execute_result"
    }
   ],
   "source": [
    "sum_most = (cars['standard_make']=='BMW').sum()\n",
    "(sum_most/len(cars.standard_make))*100"
   ]
  },
  {
   "cell_type": "code",
   "execution_count": 17,
   "id": "79edf015",
   "metadata": {},
   "outputs": [
    {
     "data": {
      "text/plain": [
       "9.322834972836532"
      ]
     },
     "execution_count": 17,
     "metadata": {},
     "output_type": "execute_result"
    }
   ],
   "source": [
    "sum_most = (cars['standard_model']== 'Golf').sum()\n",
    "(sum_most/len(cars.standard_model))*100"
   ]
  },
  {
   "cell_type": "code",
   "execution_count": 18,
   "id": "962de587",
   "metadata": {},
   "outputs": [
    {
     "data": {
      "text/plain": [
       "61.52240077283445"
      ]
     },
     "execution_count": 18,
     "metadata": {},
     "output_type": "execute_result"
    }
   ],
   "source": [
    "sum_most = (cars['body_type']== 'Hatchback').sum()\n",
    "(sum_most/len(cars.body_type))*100"
   ]
  },
  {
   "cell_type": "code",
   "execution_count": 19,
   "id": "6a2fe245",
   "metadata": {},
   "outputs": [
    {
     "data": {
      "text/plain": [
       "56.92902180348815"
      ]
     },
     "execution_count": 19,
     "metadata": {},
     "output_type": "execute_result"
    }
   ],
   "source": [
    "sum_most = (cars['fuel_type']== 'Petrol').sum()\n",
    "(sum_most/len(cars.fuel_type))*100"
   ]
  },
  {
   "cell_type": "markdown",
   "id": "b9c3e2ef",
   "metadata": {},
   "source": [
    "INFERENCE:\n",
    "\n",
    "    QUALITATIVE DATA\n",
    "\n",
    "-standard color, metrics include:\n",
    "    most occurent = Black\n",
    "    percentage = 27.5%\n",
    "    \n",
    "-standard make, metrics include:\n",
    "    most occurent = BMW\n",
    "    percentage = 17.2%\n",
    "    \n",
    "-standard model, metrics include:\n",
    "    most occurent = Golf\n",
    "    percentage = 9.3%\n",
    "    \n",
    "-vehicle condition contains used only\n",
    "\n",
    "-body_type, metrics include:\n",
    "    most occurent = Hatchback\n",
    "    percentage = 61.5%\n",
    "    \n",
    "-fuel_type, metrics include:\n",
    "    most occurent = Petrol\n",
    "    percentage = 56.9%"
   ]
  },
  {
   "cell_type": "markdown",
   "id": "7d7bece7",
   "metadata": {},
   "source": [
    "DATA VISUALIZATION"
   ]
  },
  {
   "cell_type": "markdown",
   "id": "787f5f15",
   "metadata": {},
   "source": [
    "VISUALISING QUALITATIVE DATA\n",
    "-standard_color\n",
    "-standard_make\n",
    "-standard_model\n",
    "-fuel_type\n",
    "-body_type"
   ]
  },
  {
   "cell_type": "code",
   "execution_count": 20,
   "id": "b4c2e837",
   "metadata": {},
   "outputs": [
    {
     "data": {
      "text/plain": [
       "<function matplotlib.pyplot.show(close=None, block=None)>"
      ]
     },
     "execution_count": 20,
     "metadata": {},
     "output_type": "execute_result"
    },
    {
     "data": {
      "image/png": "[encoded data removed]",
      "text/plain": [
       "<Figure size 720x576 with 1 Axes>"
      ]
     },
     "metadata": {},
     "output_type": "display_data"
    }
   ],
   "source": [
    "plt.figure(figsize= (10,8))\n",
    "\n",
    "plt.title('Standard_color bar chart')\n",
    "values_of_standard_colour = cars.standard_colour.value_counts()\n",
    "plt.bar(values_of_standard_colour.index, values_of_standard_colour, color = ['black','w','grey','silver','blue'])\n",
    "\n",
    "plt.show"
   ]
  },
  {
   "cell_type": "code",
   "execution_count": 21,
   "id": "472670ff",
   "metadata": {},
   "outputs": [
    {
     "data": {
      "text/plain": [
       "<BarContainer object of 5 artists>"
      ]
     },
     "execution_count": 21,
     "metadata": {},
     "output_type": "execute_result"
    },
    {
     "data": {
      "image/png": "[encoded data removed]",
      "text/plain": [
       "<Figure size 720x576 with 1 Axes>"
      ]
     },
     "metadata": {},
     "output_type": "display_data"
    }
   ],
   "source": [
    "plt.figure(figsize= (10,8))\n",
    "\n",
    "plt.barh(values_of_standard_colour.index, values_of_standard_colour, color = ['black','w','grey','silver','blue'])"
   ]
  },
  {
   "cell_type": "markdown",
   "id": "99895218",
   "metadata": {},
   "source": [
    "INFERENCE:\n",
    "Black cars have the highest number of standard color compared to Blue which shows the cars with the lowest number of standard color.\n",
    "Standard color includes the color of cars available for sales which are; Black, White, Grey, Silver, Blue"
   ]
  },
  {
   "cell_type": "code",
   "execution_count": 22,
   "id": "0061460a",
   "metadata": {},
   "outputs": [
    {
     "data": {
      "text/plain": [
       "<BarContainer object of 11 artists>"
      ]
     },
     "execution_count": 22,
     "metadata": {},
     "output_type": "execute_result"
    },
    {
     "data": {
      "image/png": "[encoded data removed]",
      "text/plain": [
       "<Figure size 2880x720 with 1 Axes>"
      ]
     },
     "metadata": {},
     "output_type": "display_data"
    }
   ],
   "source": [
    "plt.figure(figsize=(40,10))\n",
    "\n",
    "plt.subplot(1,3,1)\n",
    "plt.title('standard_make bar chart')\n",
    "values_of_standard_make = cars.standard_make.value_counts() \n",
    "plt.bar(values_of_standard_make.index, values_of_standard_make, color = ['red', 'yellow', 'green', 'w', 'brown'])"
   ]
  },
  {
   "cell_type": "code",
   "execution_count": 23,
   "id": "ecf99f8c",
   "metadata": {},
   "outputs": [
    {
     "data": {
      "text/plain": [
       "<BarContainer object of 11 artists>"
      ]
     },
     "execution_count": 23,
     "metadata": {},
     "output_type": "execute_result"
    },
    {
     "data": {
      "image/png": "[encoded data removed]",
      "text/plain": [
       "<Figure size 576x720 with 1 Axes>"
      ]
     },
     "metadata": {},
     "output_type": "display_data"
    }
   ],
   "source": [
    "plt.figure(figsize= (8,10))\n",
    "\n",
    "plt.barh(values_of_standard_make.index, values_of_standard_make, color = ['red', 'yellow', 'green', 'w', 'brown'])"
   ]
  },
  {
   "cell_type": "markdown",
   "id": "2ee2280b",
   "metadata": {},
   "source": [
    "INFERENCE:\n",
    "\n",
    "BMW is the most preferred car brand under the standard make while toyota is the least preferred car brand under the standard make. The brands under the standard_make include:\n",
    "BMW, Mercedes-Benz, Volkswagen, Vauxhall, Nissan, Audi, MINI, Kia, Renault, Fiat, Toyota"
   ]
  },
  {
   "cell_type": "code",
   "execution_count": 24,
   "id": "8f85633d",
   "metadata": {},
   "outputs": [
    {
     "data": {
      "text/plain": [
       "<BarContainer object of 19 artists>"
      ]
     },
     "execution_count": 24,
     "metadata": {},
     "output_type": "execute_result"
    },
    {
     "data": {
      "image/png": "[encoded data removed]",
      "text/plain": [
       "<Figure size 2880x720 with 1 Axes>"
      ]
     },
     "metadata": {},
     "output_type": "display_data"
    }
   ],
   "source": [
    "plt.figure(figsize=(40,10))\n",
    "\n",
    "plt.subplot(1,3,1)\n",
    "plt.title('standard_model bar chart')\n",
    "values_of_standard_model = cars.standard_model.value_counts() \n",
    "plt.bar(values_of_standard_model.index, values_of_standard_model)"
   ]
  },
  {
   "cell_type": "code",
   "execution_count": 25,
   "id": "912383da",
   "metadata": {},
   "outputs": [
    {
     "data": {
      "text/plain": [
       "<BarContainer object of 19 artists>"
      ]
     },
     "execution_count": 25,
     "metadata": {},
     "output_type": "execute_result"
    },
    {
     "data": {
      "image/png": "[encoded data removed]",
      "text/plain": [
       "<Figure size 576x720 with 1 Axes>"
      ]
     },
     "metadata": {},
     "output_type": "display_data"
    }
   ],
   "source": [
    "plt.figure(figsize= (8,10))\n",
    "\n",
    "plt.barh(values_of_standard_model.index, values_of_standard_model)"
   ]
  },
  {
   "cell_type": "markdown",
   "id": "8d101174",
   "metadata": {},
   "source": [
    "INFERENCE:\n",
    "\n",
    "Standard model includes the brands or models of the cars on sale. The most preferred model includes Golf while the least preferred includes Yaris."
   ]
  },
  {
   "cell_type": "code",
   "execution_count": 26,
   "id": "dbf698bc",
   "metadata": {},
   "outputs": [
    {
     "data": {
      "text/plain": [
       "<BarContainer object of 2 artists>"
      ]
     },
     "execution_count": 26,
     "metadata": {},
     "output_type": "execute_result"
    },
    {
     "data": {
      "image/png": "[encoded data removed]",
      "text/plain": [
       "<Figure size 1440x288 with 1 Axes>"
      ]
     },
     "metadata": {},
     "output_type": "display_data"
    }
   ],
   "source": [
    "plt.figure(figsize=(20,4))\n",
    "\n",
    "plt.subplot(1,3,2)\n",
    "plt.title('Fuel Type Bar Chart')\n",
    "values_of_fuel_type = cars.fuel_type.value_counts() \n",
    "plt.bar(values_of_fuel_type.index, values_of_fuel_type,  color = ['w', 'black'])"
   ]
  },
  {
   "cell_type": "code",
   "execution_count": 27,
   "id": "85ab1148",
   "metadata": {},
   "outputs": [
    {
     "data": {
      "text/plain": [
       "<BarContainer object of 2 artists>"
      ]
     },
     "execution_count": 27,
     "metadata": {},
     "output_type": "execute_result"
    },
    {
     "data": {
      "image/png": "[encoded data removed]",
      "text/plain": [
       "<Figure size 720x288 with 1 Axes>"
      ]
     },
     "metadata": {},
     "output_type": "display_data"
    }
   ],
   "source": [
    "plt.figure(figsize= (10, 4))\n",
    "\n",
    "plt.barh(values_of_fuel_type.index, values_of_fuel_type, color =  ['w', 'black'])"
   ]
  },
  {
   "cell_type": "markdown",
   "id": "57e5382a",
   "metadata": {},
   "source": [
    "INFERENCE:\n",
    "\n",
    "Fuel_type involves the kind of fuel used to fuel cars and it includes; Petrol and Diesel. Petrol fueled cars are more than Diesel fueled cars."
   ]
  },
  {
   "cell_type": "code",
   "execution_count": 28,
   "id": "bd43618c",
   "metadata": {},
   "outputs": [
    {
     "data": {
      "text/plain": [
       "<BarContainer object of 5 artists>"
      ]
     },
     "execution_count": 28,
     "metadata": {},
     "output_type": "execute_result"
    },
    {
     "data": {
      "image/png": "[encoded data removed]",
      "text/plain": [
       "<Figure size 2160x720 with 1 Axes>"
      ]
     },
     "metadata": {},
     "output_type": "display_data"
    }
   ],
   "source": [
    "plt.figure(figsize= (30, 10))\n",
    "\n",
    "plt.subplot(1,3,3)\n",
    "plt.title('Body Type Bar Chart')\n",
    "values_of_body_type = cars.body_type.value_counts() \n",
    "plt.bar(values_of_body_type.index, values_of_body_type, color = ['brown','green','pink','tab:gray','red'])\n",
    "\n"
   ]
  },
  {
   "cell_type": "code",
   "execution_count": 29,
   "id": "f12843f8",
   "metadata": {},
   "outputs": [
    {
     "data": {
      "text/plain": [
       "<BarContainer object of 5 artists>"
      ]
     },
     "execution_count": 29,
     "metadata": {},
     "output_type": "execute_result"
    },
    {
     "data": {
      "image/png": "[encoded data removed]",
      "text/plain": [
       "<Figure size 576x720 with 1 Axes>"
      ]
     },
     "metadata": {},
     "output_type": "display_data"
    }
   ],
   "source": [
    "plt.figure(figsize= (8,10))\n",
    "\n",
    "plt.barh(values_of_body_type.index, values_of_body_type, color = ['brown','green','pink','tab:gray','red'])"
   ]
  },
  {
   "cell_type": "markdown",
   "id": "83e18f4d",
   "metadata": {},
   "source": [
    "INFERENCE:\n",
    "\n",
    "Body_type refers to the shape of the cars and they include; Hatchback, Saloon, SUV, Estate, Coupe. The top body type is the Hatchback."
   ]
  },
  {
   "cell_type": "code",
   "execution_count": 30,
   "id": "910d250e",
   "metadata": {},
   "outputs": [
    {
     "name": "stderr",
     "output_type": "stream",
     "text": [
      "*c* argument looks like a single numeric RGB or RGBA sequence, which should be avoided as value-mapping will have precedence in case its length matches with *x* & *y*.  Please use the *color* keyword-argument or provide a 2D array with a single row if you intend to specify the same RGB or RGBA value for all points.\n"
     ]
    },
    {
     "data": {
      "text/plain": [
       "<Figure size 720x1440 with 0 Axes>"
      ]
     },
     "metadata": {},
     "output_type": "display_data"
    },
    {
     "data": {
      "image/png": "[encoded data removed]",
      "text/plain": [
       "<Figure size 432x288 with 1 Axes>"
      ]
     },
     "metadata": {},
     "output_type": "display_data"
    }
   ],
   "source": [
    "# Scatter Plot Mileage/Price\n",
    "\n",
    "plt.figure(figsize=(10,20))\n",
    "value = 'mileage'\n",
    "data = pd.concat([cars['price'], cars[value]], axis=1)\n",
    "data.plot.scatter(x=value, y='price', ylim=(0,300000));\n",
    "\n",
    "# plt.tight_layout()"
   ]
  },
  {
   "cell_type": "markdown",
   "id": "424d12c4",
   "metadata": {},
   "source": [
    "INFERENCE: Mileage is referred to as the number of miles travelled or covered by a vehicle. The scatter plot goes to show that mileage and price have a significant positive correlation, i.e they are positively correlated."
   ]
  },
  {
   "cell_type": "code",
   "execution_count": 31,
   "id": "f01b8dc4",
   "metadata": {},
   "outputs": [
    {
     "name": "stderr",
     "output_type": "stream",
     "text": [
      "*c* argument looks like a single numeric RGB or RGBA sequence, which should be avoided as value-mapping will have precedence in case its length matches with *x* & *y*.  Please use the *color* keyword-argument or provide a 2D array with a single row if you intend to specify the same RGB or RGBA value for all points.\n"
     ]
    },
    {
     "data": {
      "image/png": "[encoded data removed]",
      "text/plain": [
       "<Figure size 432x288 with 1 Axes>"
      ]
     },
     "metadata": {},
     "output_type": "display_data"
    }
   ],
   "source": [
    "# Scatter plot Year Of Registration / Price\n",
    "\n",
    "value = 'year_of_registration'\n",
    "graph = pd.concat([cars['price'], cars[value]], axis=1)\n",
    "graph.plot.scatter(x=value, y='price', ylim=(0,400000))\n",
    "plt.xticks([x for x in range(1960, 2023, 8)])\n",
    "\n",
    "plt.tight_layout()"
   ]
  },
  {
   "cell_type": "markdown",
   "id": "ba0c487f",
   "metadata": {},
   "source": [
    "INFERENCE: Year of registration doesn't show any significant correlation with price. It seems to have a significant negative correlation with price, i.e price and year of registration are negatively correlated."
   ]
  },
  {
   "cell_type": "code",
   "execution_count": 32,
   "id": "08d441d3",
   "metadata": {},
   "outputs": [
    {
     "name": "stderr",
     "output_type": "stream",
     "text": [
      "*c* argument looks like a single numeric RGB or RGBA sequence, which should be avoided as value-mapping will have precedence in case its length matches with *x* & *y*.  Please use the *color* keyword-argument or provide a 2D array with a single row if you intend to specify the same RGB or RGBA value for all points.\n"
     ]
    },
    {
     "data": {
      "image/png": "[encoded data removed]",
      "text/plain": [
       "<Figure size 432x288 with 1 Axes>"
      ]
     },
     "metadata": {},
     "output_type": "display_data"
    }
   ],
   "source": [
    "# Scatter plot Age / Price\n",
    "\n",
    "value = 'age'\n",
    "graph = pd.concat([cars['price'], cars[value]], axis=1)\n",
    "graph.plot.scatter(x=value, y='price', ylim=(0,400000))\n",
    "\n",
    "plt.tight_layout()"
   ]
  },
  {
   "cell_type": "markdown",
   "id": "5f251217",
   "metadata": {},
   "source": [
    "INFERENCE: Age refers to the time frame from when a vehicle was bought till the current year. The scatter diagram shows that it has a positive correlation with price.\n",
    "\n",
    "Price is referred to as how much the vehicle costs."
   ]
  },
  {
   "cell_type": "markdown",
   "id": "4fa669d0",
   "metadata": {},
   "source": [
    "CLEANING THE DATA"
   ]
  },
  {
   "cell_type": "code",
   "execution_count": 33,
   "id": "746e2eb5",
   "metadata": {},
   "outputs": [
    {
     "data": {
      "text/html": [
       "<div>\n",
       "<style scoped>\n",
       "    .dataframe tbody tr th:only-of-type {\n",
       "        vertical-align: middle;\n",
       "    }\n",
       "\n",
       "    .dataframe tbody tr th {\n",
       "        vertical-align: top;\n",
       "    }\n",
       "\n",
       "    .dataframe thead th {\n",
       "        text-align: right;\n",
       "    }\n",
       "</style>\n",
       "<table border=\"1\" class=\"dataframe\">\n",
       "  <thead>\n",
       "    <tr style=\"text-align: right;\">\n",
       "      <th></th>\n",
       "      <th>public_reference</th>\n",
       "      <th>mileage</th>\n",
       "      <th>reg_code</th>\n",
       "      <th>standard_colour</th>\n",
       "      <th>standard_make</th>\n",
       "      <th>standard_model</th>\n",
       "      <th>vehicle_condition</th>\n",
       "      <th>year_of_registration</th>\n",
       "      <th>price</th>\n",
       "      <th>body_type</th>\n",
       "      <th>crossover_car_and_van</th>\n",
       "      <th>fuel_type</th>\n",
       "      <th>make_model</th>\n",
       "      <th>age</th>\n",
       "    </tr>\n",
       "  </thead>\n",
       "  <tbody>\n",
       "    <tr>\n",
       "      <th>0</th>\n",
       "      <td>202010014440649</td>\n",
       "      <td>31534.0</td>\n",
       "      <td>17</td>\n",
       "      <td>Grey</td>\n",
       "      <td>MINI</td>\n",
       "      <td>Hatch</td>\n",
       "      <td>USED</td>\n",
       "      <td>2017.0</td>\n",
       "      <td>19000</td>\n",
       "      <td>Hatchback</td>\n",
       "      <td>False</td>\n",
       "      <td>Petrol</td>\n",
       "      <td>MINI - Hatch</td>\n",
       "      <td>5</td>\n",
       "    </tr>\n",
       "    <tr>\n",
       "      <th>1</th>\n",
       "      <td>202010155026725</td>\n",
       "      <td>52023.0</td>\n",
       "      <td>66</td>\n",
       "      <td>Blue</td>\n",
       "      <td>Volkswagen</td>\n",
       "      <td>Golf</td>\n",
       "      <td>USED</td>\n",
       "      <td>2016.0</td>\n",
       "      <td>13500</td>\n",
       "      <td>Estate</td>\n",
       "      <td>False</td>\n",
       "      <td>Diesel</td>\n",
       "      <td>Volkswagen - Golf</td>\n",
       "      <td>6</td>\n",
       "    </tr>\n",
       "    <tr>\n",
       "      <th>2</th>\n",
       "      <td>202008142485309</td>\n",
       "      <td>29500.0</td>\n",
       "      <td>12</td>\n",
       "      <td>Grey</td>\n",
       "      <td>Mercedes-Benz</td>\n",
       "      <td>C Class</td>\n",
       "      <td>USED</td>\n",
       "      <td>2012.0</td>\n",
       "      <td>9495</td>\n",
       "      <td>Saloon</td>\n",
       "      <td>False</td>\n",
       "      <td>Petrol</td>\n",
       "      <td>Mercedes-Benz - C Class</td>\n",
       "      <td>10</td>\n",
       "    </tr>\n",
       "    <tr>\n",
       "      <th>3</th>\n",
       "      <td>202009183894045</td>\n",
       "      <td>35300.0</td>\n",
       "      <td>18</td>\n",
       "      <td>Grey</td>\n",
       "      <td>Vauxhall</td>\n",
       "      <td>Corsa</td>\n",
       "      <td>USED</td>\n",
       "      <td>2018.0</td>\n",
       "      <td>7293</td>\n",
       "      <td>Hatchback</td>\n",
       "      <td>False</td>\n",
       "      <td>Petrol</td>\n",
       "      <td>Vauxhall - Corsa</td>\n",
       "      <td>4</td>\n",
       "    </tr>\n",
       "    <tr>\n",
       "      <th>4</th>\n",
       "      <td>202010014441671</td>\n",
       "      <td>47299.0</td>\n",
       "      <td>65</td>\n",
       "      <td>Black</td>\n",
       "      <td>Nissan</td>\n",
       "      <td>Qashqai</td>\n",
       "      <td>USED</td>\n",
       "      <td>2016.0</td>\n",
       "      <td>11500</td>\n",
       "      <td>SUV</td>\n",
       "      <td>False</td>\n",
       "      <td>Diesel</td>\n",
       "      <td>Nissan - Qashqai</td>\n",
       "      <td>6</td>\n",
       "    </tr>\n",
       "    <tr>\n",
       "      <th>...</th>\n",
       "      <td>...</td>\n",
       "      <td>...</td>\n",
       "      <td>...</td>\n",
       "      <td>...</td>\n",
       "      <td>...</td>\n",
       "      <td>...</td>\n",
       "      <td>...</td>\n",
       "      <td>...</td>\n",
       "      <td>...</td>\n",
       "      <td>...</td>\n",
       "      <td>...</td>\n",
       "      <td>...</td>\n",
       "      <td>...</td>\n",
       "      <td>...</td>\n",
       "    </tr>\n",
       "    <tr>\n",
       "      <th>96264</th>\n",
       "      <td>202010295556637</td>\n",
       "      <td>28225.0</td>\n",
       "      <td>17</td>\n",
       "      <td>White</td>\n",
       "      <td>Mercedes-Benz</td>\n",
       "      <td>C Class</td>\n",
       "      <td>USED</td>\n",
       "      <td>2017.0</td>\n",
       "      <td>18499</td>\n",
       "      <td>Saloon</td>\n",
       "      <td>False</td>\n",
       "      <td>Diesel</td>\n",
       "      <td>Mercedes-Benz - C Class</td>\n",
       "      <td>5</td>\n",
       "    </tr>\n",
       "    <tr>\n",
       "      <th>96265</th>\n",
       "      <td>202010305614799</td>\n",
       "      <td>122000.0</td>\n",
       "      <td>07</td>\n",
       "      <td>Silver</td>\n",
       "      <td>BMW</td>\n",
       "      <td>3 Series</td>\n",
       "      <td>USED</td>\n",
       "      <td>2007.0</td>\n",
       "      <td>1990</td>\n",
       "      <td>Saloon</td>\n",
       "      <td>False</td>\n",
       "      <td>Petrol</td>\n",
       "      <td>BMW - 3 Series</td>\n",
       "      <td>15</td>\n",
       "    </tr>\n",
       "    <tr>\n",
       "      <th>96266</th>\n",
       "      <td>202010315639231</td>\n",
       "      <td>45000.0</td>\n",
       "      <td>15</td>\n",
       "      <td>Silver</td>\n",
       "      <td>Vauxhall</td>\n",
       "      <td>Corsa</td>\n",
       "      <td>USED</td>\n",
       "      <td>2015.0</td>\n",
       "      <td>5000</td>\n",
       "      <td>Hatchback</td>\n",
       "      <td>False</td>\n",
       "      <td>Petrol</td>\n",
       "      <td>Vauxhall - Corsa</td>\n",
       "      <td>7</td>\n",
       "    </tr>\n",
       "    <tr>\n",
       "      <th>96267</th>\n",
       "      <td>202010315647416</td>\n",
       "      <td>4075.0</td>\n",
       "      <td>69</td>\n",
       "      <td>Grey</td>\n",
       "      <td>Nissan</td>\n",
       "      <td>Juke</td>\n",
       "      <td>USED</td>\n",
       "      <td>2019.0</td>\n",
       "      <td>18000</td>\n",
       "      <td>SUV</td>\n",
       "      <td>False</td>\n",
       "      <td>Petrol</td>\n",
       "      <td>Nissan - Juke</td>\n",
       "      <td>3</td>\n",
       "    </tr>\n",
       "    <tr>\n",
       "      <th>96268</th>\n",
       "      <td>202010315659271</td>\n",
       "      <td>52760.0</td>\n",
       "      <td>62</td>\n",
       "      <td>White</td>\n",
       "      <td>Nissan</td>\n",
       "      <td>Qashqai</td>\n",
       "      <td>USED</td>\n",
       "      <td>2012.0</td>\n",
       "      <td>7250</td>\n",
       "      <td>SUV</td>\n",
       "      <td>False</td>\n",
       "      <td>Petrol</td>\n",
       "      <td>Nissan - Qashqai</td>\n",
       "      <td>10</td>\n",
       "    </tr>\n",
       "  </tbody>\n",
       "</table>\n",
       "<p>96247 rows × 14 columns</p>\n",
       "</div>"
      ],
      "text/plain": [
       "       public_reference   mileage reg_code standard_colour  standard_make  \\\n",
       "0       202010014440649   31534.0       17            Grey           MINI   \n",
       "1       202010155026725   52023.0       66            Blue     Volkswagen   \n",
       "2       202008142485309   29500.0       12            Grey  Mercedes-Benz   \n",
       "3       202009183894045   35300.0       18            Grey       Vauxhall   \n",
       "4       202010014441671   47299.0       65           Black         Nissan   \n",
       "...                 ...       ...      ...             ...            ...   \n",
       "96264   202010295556637   28225.0       17           White  Mercedes-Benz   \n",
       "96265   202010305614799  122000.0       07          Silver            BMW   \n",
       "96266   202010315639231   45000.0       15          Silver       Vauxhall   \n",
       "96267   202010315647416    4075.0       69            Grey         Nissan   \n",
       "96268   202010315659271   52760.0       62           White         Nissan   \n",
       "\n",
       "      standard_model vehicle_condition  year_of_registration  price  \\\n",
       "0              Hatch              USED                2017.0  19000   \n",
       "1               Golf              USED                2016.0  13500   \n",
       "2            C Class              USED                2012.0   9495   \n",
       "3              Corsa              USED                2018.0   7293   \n",
       "4            Qashqai              USED                2016.0  11500   \n",
       "...              ...               ...                   ...    ...   \n",
       "96264        C Class              USED                2017.0  18499   \n",
       "96265       3 Series              USED                2007.0   1990   \n",
       "96266          Corsa              USED                2015.0   5000   \n",
       "96267           Juke              USED                2019.0  18000   \n",
       "96268        Qashqai              USED                2012.0   7250   \n",
       "\n",
       "       body_type  crossover_car_and_van fuel_type               make_model  \\\n",
       "0      Hatchback                  False    Petrol             MINI - Hatch   \n",
       "1         Estate                  False    Diesel        Volkswagen - Golf   \n",
       "2         Saloon                  False    Petrol  Mercedes-Benz - C Class   \n",
       "3      Hatchback                  False    Petrol         Vauxhall - Corsa   \n",
       "4            SUV                  False    Diesel         Nissan - Qashqai   \n",
       "...          ...                    ...       ...                      ...   \n",
       "96264     Saloon                  False    Diesel  Mercedes-Benz - C Class   \n",
       "96265     Saloon                  False    Petrol           BMW - 3 Series   \n",
       "96266  Hatchback                  False    Petrol         Vauxhall - Corsa   \n",
       "96267        SUV                  False    Petrol            Nissan - Juke   \n",
       "96268        SUV                  False    Petrol         Nissan - Qashqai   \n",
       "\n",
       "       age  \n",
       "0        5  \n",
       "1        6  \n",
       "2       10  \n",
       "3        4  \n",
       "4        6  \n",
       "...    ...  \n",
       "96264    5  \n",
       "96265   15  \n",
       "96266    7  \n",
       "96267    3  \n",
       "96268   10  \n",
       "\n",
       "[96247 rows x 14 columns]"
      ]
     },
     "execution_count": 33,
     "metadata": {},
     "output_type": "execute_result"
    }
   ],
   "source": [
    "clear_cars = cars[~cars.mileage.isnull()]\n",
    "clear_cars"
   ]
  },
  {
   "cell_type": "code",
   "execution_count": 34,
   "id": "241b1cc6",
   "metadata": {},
   "outputs": [
    {
     "name": "stdout",
     "output_type": "stream",
     "text": [
      "<class 'pandas.core.frame.DataFrame'>\n",
      "Int64Index: 96247 entries, 0 to 96268\n",
      "Data columns (total 14 columns):\n",
      " #   Column                 Non-Null Count  Dtype  \n",
      "---  ------                 --------------  -----  \n",
      " 0   public_reference       96247 non-null  int64  \n",
      " 1   mileage                96247 non-null  float64\n",
      " 2   reg_code               96235 non-null  object \n",
      " 3   standard_colour        96247 non-null  object \n",
      " 4   standard_make          96247 non-null  object \n",
      " 5   standard_model         96247 non-null  object \n",
      " 6   vehicle_condition      96247 non-null  object \n",
      " 7   year_of_registration   96247 non-null  float64\n",
      " 8   price                  96247 non-null  int64  \n",
      " 9   body_type              96247 non-null  object \n",
      " 10  crossover_car_and_van  96247 non-null  bool   \n",
      " 11  fuel_type              96247 non-null  object \n",
      " 12  make_model             96247 non-null  object \n",
      " 13  age                    96247 non-null  int64  \n",
      "dtypes: bool(1), float64(2), int64(3), object(8)\n",
      "memory usage: 10.4+ MB\n"
     ]
    }
   ],
   "source": [
    "clear_cars.info()"
   ]
  },
  {
   "cell_type": "code",
   "execution_count": 35,
   "id": "8fe2e918",
   "metadata": {},
   "outputs": [
    {
     "data": {
      "text/html": [
       "<div>\n",
       "<style scoped>\n",
       "    .dataframe tbody tr th:only-of-type {\n",
       "        vertical-align: middle;\n",
       "    }\n",
       "\n",
       "    .dataframe tbody tr th {\n",
       "        vertical-align: top;\n",
       "    }\n",
       "\n",
       "    .dataframe thead th {\n",
       "        text-align: right;\n",
       "    }\n",
       "</style>\n",
       "<table border=\"1\" class=\"dataframe\">\n",
       "  <thead>\n",
       "    <tr style=\"text-align: right;\">\n",
       "      <th></th>\n",
       "      <th>mileage</th>\n",
       "      <th>standard_colour</th>\n",
       "      <th>standard_make</th>\n",
       "      <th>standard_model</th>\n",
       "      <th>year_of_registration</th>\n",
       "      <th>price</th>\n",
       "      <th>body_type</th>\n",
       "      <th>fuel_type</th>\n",
       "      <th>make_model</th>\n",
       "      <th>age</th>\n",
       "    </tr>\n",
       "  </thead>\n",
       "  <tbody>\n",
       "    <tr>\n",
       "      <th>0</th>\n",
       "      <td>31534.0</td>\n",
       "      <td>Grey</td>\n",
       "      <td>MINI</td>\n",
       "      <td>Hatch</td>\n",
       "      <td>2017.0</td>\n",
       "      <td>19000</td>\n",
       "      <td>Hatchback</td>\n",
       "      <td>Petrol</td>\n",
       "      <td>MINI - Hatch</td>\n",
       "      <td>5</td>\n",
       "    </tr>\n",
       "    <tr>\n",
       "      <th>1</th>\n",
       "      <td>52023.0</td>\n",
       "      <td>Blue</td>\n",
       "      <td>Volkswagen</td>\n",
       "      <td>Golf</td>\n",
       "      <td>2016.0</td>\n",
       "      <td>13500</td>\n",
       "      <td>Estate</td>\n",
       "      <td>Diesel</td>\n",
       "      <td>Volkswagen - Golf</td>\n",
       "      <td>6</td>\n",
       "    </tr>\n",
       "    <tr>\n",
       "      <th>2</th>\n",
       "      <td>29500.0</td>\n",
       "      <td>Grey</td>\n",
       "      <td>Mercedes-Benz</td>\n",
       "      <td>C Class</td>\n",
       "      <td>2012.0</td>\n",
       "      <td>9495</td>\n",
       "      <td>Saloon</td>\n",
       "      <td>Petrol</td>\n",
       "      <td>Mercedes-Benz - C Class</td>\n",
       "      <td>10</td>\n",
       "    </tr>\n",
       "    <tr>\n",
       "      <th>3</th>\n",
       "      <td>35300.0</td>\n",
       "      <td>Grey</td>\n",
       "      <td>Vauxhall</td>\n",
       "      <td>Corsa</td>\n",
       "      <td>2018.0</td>\n",
       "      <td>7293</td>\n",
       "      <td>Hatchback</td>\n",
       "      <td>Petrol</td>\n",
       "      <td>Vauxhall - Corsa</td>\n",
       "      <td>4</td>\n",
       "    </tr>\n",
       "    <tr>\n",
       "      <th>4</th>\n",
       "      <td>47299.0</td>\n",
       "      <td>Black</td>\n",
       "      <td>Nissan</td>\n",
       "      <td>Qashqai</td>\n",
       "      <td>2016.0</td>\n",
       "      <td>11500</td>\n",
       "      <td>SUV</td>\n",
       "      <td>Diesel</td>\n",
       "      <td>Nissan - Qashqai</td>\n",
       "      <td>6</td>\n",
       "    </tr>\n",
       "    <tr>\n",
       "      <th>...</th>\n",
       "      <td>...</td>\n",
       "      <td>...</td>\n",
       "      <td>...</td>\n",
       "      <td>...</td>\n",
       "      <td>...</td>\n",
       "      <td>...</td>\n",
       "      <td>...</td>\n",
       "      <td>...</td>\n",
       "      <td>...</td>\n",
       "      <td>...</td>\n",
       "    </tr>\n",
       "    <tr>\n",
       "      <th>96264</th>\n",
       "      <td>28225.0</td>\n",
       "      <td>White</td>\n",
       "      <td>Mercedes-Benz</td>\n",
       "      <td>C Class</td>\n",
       "      <td>2017.0</td>\n",
       "      <td>18499</td>\n",
       "      <td>Saloon</td>\n",
       "      <td>Diesel</td>\n",
       "      <td>Mercedes-Benz - C Class</td>\n",
       "      <td>5</td>\n",
       "    </tr>\n",
       "    <tr>\n",
       "      <th>96265</th>\n",
       "      <td>122000.0</td>\n",
       "      <td>Silver</td>\n",
       "      <td>BMW</td>\n",
       "      <td>3 Series</td>\n",
       "      <td>2007.0</td>\n",
       "      <td>1990</td>\n",
       "      <td>Saloon</td>\n",
       "      <td>Petrol</td>\n",
       "      <td>BMW - 3 Series</td>\n",
       "      <td>15</td>\n",
       "    </tr>\n",
       "    <tr>\n",
       "      <th>96266</th>\n",
       "      <td>45000.0</td>\n",
       "      <td>Silver</td>\n",
       "      <td>Vauxhall</td>\n",
       "      <td>Corsa</td>\n",
       "      <td>2015.0</td>\n",
       "      <td>5000</td>\n",
       "      <td>Hatchback</td>\n",
       "      <td>Petrol</td>\n",
       "      <td>Vauxhall - Corsa</td>\n",
       "      <td>7</td>\n",
       "    </tr>\n",
       "    <tr>\n",
       "      <th>96267</th>\n",
       "      <td>4075.0</td>\n",
       "      <td>Grey</td>\n",
       "      <td>Nissan</td>\n",
       "      <td>Juke</td>\n",
       "      <td>2019.0</td>\n",
       "      <td>18000</td>\n",
       "      <td>SUV</td>\n",
       "      <td>Petrol</td>\n",
       "      <td>Nissan - Juke</td>\n",
       "      <td>3</td>\n",
       "    </tr>\n",
       "    <tr>\n",
       "      <th>96268</th>\n",
       "      <td>52760.0</td>\n",
       "      <td>White</td>\n",
       "      <td>Nissan</td>\n",
       "      <td>Qashqai</td>\n",
       "      <td>2012.0</td>\n",
       "      <td>7250</td>\n",
       "      <td>SUV</td>\n",
       "      <td>Petrol</td>\n",
       "      <td>Nissan - Qashqai</td>\n",
       "      <td>10</td>\n",
       "    </tr>\n",
       "  </tbody>\n",
       "</table>\n",
       "<p>96247 rows × 10 columns</p>\n",
       "</div>"
      ],
      "text/plain": [
       "        mileage standard_colour  standard_make standard_model  \\\n",
       "0       31534.0            Grey           MINI          Hatch   \n",
       "1       52023.0            Blue     Volkswagen           Golf   \n",
       "2       29500.0            Grey  Mercedes-Benz        C Class   \n",
       "3       35300.0            Grey       Vauxhall          Corsa   \n",
       "4       47299.0           Black         Nissan        Qashqai   \n",
       "...         ...             ...            ...            ...   \n",
       "96264   28225.0           White  Mercedes-Benz        C Class   \n",
       "96265  122000.0          Silver            BMW       3 Series   \n",
       "96266   45000.0          Silver       Vauxhall          Corsa   \n",
       "96267    4075.0            Grey         Nissan           Juke   \n",
       "96268   52760.0           White         Nissan        Qashqai   \n",
       "\n",
       "       year_of_registration  price  body_type fuel_type  \\\n",
       "0                    2017.0  19000  Hatchback    Petrol   \n",
       "1                    2016.0  13500     Estate    Diesel   \n",
       "2                    2012.0   9495     Saloon    Petrol   \n",
       "3                    2018.0   7293  Hatchback    Petrol   \n",
       "4                    2016.0  11500        SUV    Diesel   \n",
       "...                     ...    ...        ...       ...   \n",
       "96264                2017.0  18499     Saloon    Diesel   \n",
       "96265                2007.0   1990     Saloon    Petrol   \n",
       "96266                2015.0   5000  Hatchback    Petrol   \n",
       "96267                2019.0  18000        SUV    Petrol   \n",
       "96268                2012.0   7250        SUV    Petrol   \n",
       "\n",
       "                    make_model  age  \n",
       "0                 MINI - Hatch    5  \n",
       "1            Volkswagen - Golf    6  \n",
       "2      Mercedes-Benz - C Class   10  \n",
       "3             Vauxhall - Corsa    4  \n",
       "4             Nissan - Qashqai    6  \n",
       "...                        ...  ...  \n",
       "96264  Mercedes-Benz - C Class    5  \n",
       "96265           BMW - 3 Series   15  \n",
       "96266         Vauxhall - Corsa    7  \n",
       "96267            Nissan - Juke    3  \n",
       "96268         Nissan - Qashqai   10  \n",
       "\n",
       "[96247 rows x 10 columns]"
      ]
     },
     "execution_count": 35,
     "metadata": {},
     "output_type": "execute_result"
    }
   ],
   "source": [
    "clear= clear_cars.drop(columns=['public_reference', 'reg_code', 'crossover_car_and_van', 'vehicle_condition'])\n",
    "clear"
   ]
  },
  {
   "cell_type": "code",
   "execution_count": 36,
   "id": "1f370659",
   "metadata": {},
   "outputs": [
    {
     "name": "stdout",
     "output_type": "stream",
     "text": [
      "<class 'pandas.core.frame.DataFrame'>\n",
      "Int64Index: 96247 entries, 0 to 96268\n",
      "Data columns (total 10 columns):\n",
      " #   Column                Non-Null Count  Dtype  \n",
      "---  ------                --------------  -----  \n",
      " 0   mileage               96247 non-null  float64\n",
      " 1   standard_colour       96247 non-null  object \n",
      " 2   standard_make         96247 non-null  object \n",
      " 3   standard_model        96247 non-null  object \n",
      " 4   year_of_registration  96247 non-null  float64\n",
      " 5   price                 96247 non-null  int64  \n",
      " 6   body_type             96247 non-null  object \n",
      " 7   fuel_type             96247 non-null  object \n",
      " 8   make_model            96247 non-null  object \n",
      " 9   age                   96247 non-null  int64  \n",
      "dtypes: float64(2), int64(2), object(6)\n",
      "memory usage: 8.1+ MB\n"
     ]
    }
   ],
   "source": [
    "clear.info()"
   ]
  },
  {
   "cell_type": "markdown",
   "id": "36769cf0",
   "metadata": {},
   "source": [
    "INFERENCE: \n",
    "    The public_reference, reg_code, crossover_car_and_van, vehicle_condition columns were dropped because when compared to price, they don't provide significant correlations."
   ]
  },
  {
   "cell_type": "markdown",
   "id": "c61800aa",
   "metadata": {},
   "source": [
    "HANDLING OF OUTLIERS"
   ]
  },
  {
   "cell_type": "code",
   "execution_count": 37,
   "id": "858241f2",
   "metadata": {},
   "outputs": [],
   "source": [
    "#Removing the outliers (IQR Method)\n",
    "\n",
    "def removeOutliers(data, col):\n",
    "    Q3 = np.quantile(data[col], 0.75)\n",
    "    Q1 = np.quantile(data[col], 0.25)\n",
    "    IQR = Q3 - Q1\n",
    " \n",
    "    print(\"IQR value for column %s is: %s\" % (col, IQR))\n",
    "    global outlier_free_list\n",
    "    global filtered_data\n",
    " \n",
    "    lower_range = Q1 - 1.5 * IQR\n",
    "    upper_range = Q3 + 1.5 * IQR\n",
    "    outlier_free_list = [x for x in data[col] if (\n",
    "        (x > lower_range) & (x < upper_range))]\n",
    "    filtered_data = data.loc[data[col].isin(outlier_free_list)]\n",
    "    return filtered_data"
   ]
  },
  {
   "cell_type": "code",
   "execution_count": 38,
   "id": "99af2b25",
   "metadata": {},
   "outputs": [
    {
     "name": "stdout",
     "output_type": "stream",
     "text": [
      "IQR value for column mileage is: 45000.0\n",
      "IQR value for column year_of_registration is: 5.0\n",
      "IQR value for column price is: 8799.0\n",
      "IQR value for column age is: 3.0\n"
     ]
    }
   ],
   "source": [
    "outlier_free_mileage = removeOutliers(clear, 'mileage')\n",
    "outlier_free_p =   removeOutliers(outlier_free_mileage, 'year_of_registration')\n",
    "outlier_free_set =    removeOutliers(outlier_free_p, \"price\")\n",
    "outlier_free_age = removeOutliers(outlier_free_set, \"age\")\n",
    "outlier_free_data = outlier_free_age\n"
   ]
  },
  {
   "cell_type": "markdown",
   "id": "990ac854",
   "metadata": {},
   "source": [
    "INFERENCE:\n",
    "The values for IQR for each column is as listed below:\n",
    "-IQR value for column mileage is: 45000.0\n",
    "-IQR value for column year_of_registration is: 5.0\n",
    "-IQR value for column price is: 8799.0\n",
    "-IQR value for column age is: 3.0"
   ]
  },
  {
   "cell_type": "code",
   "execution_count": 39,
   "id": "8ee48b7b",
   "metadata": {},
   "outputs": [
    {
     "name": "stdout",
     "output_type": "stream",
     "text": [
      "mileage column missing values: 0\n",
      "standard_colour column missing values: 0\n",
      "standard_make column missing values: 0\n",
      "standard_model column missing values: 0\n",
      "year_of_registration column missing values: 0\n",
      "price column missing values: 0\n",
      "body_type column missing values: 0\n",
      "fuel_type column missing values: 0\n",
      "make_model column missing values: 0\n",
      "age column missing values: 0\n"
     ]
    }
   ],
   "source": [
    "for col in outlier_free_data.columns.tolist():          \n",
    "        print('{} column missing values: {}'.format(col, outlier_free_data[col].isnull().sum()))"
   ]
  },
  {
   "cell_type": "code",
   "execution_count": 40,
   "id": "d873815b",
   "metadata": {},
   "outputs": [
    {
     "data": {
      "text/plain": [
       "(84072, 10)"
      ]
     },
     "execution_count": 40,
     "metadata": {},
     "output_type": "execute_result"
    }
   ],
   "source": [
    "outlier_free_data.shape"
   ]
  },
  {
   "cell_type": "code",
   "execution_count": 41,
   "id": "b23da835",
   "metadata": {},
   "outputs": [
    {
     "data": {
      "image/png": "[encoded data removed]",
      "text/plain": [
       "<Figure size 1080x360 with 3 Axes>"
      ]
     },
     "metadata": {},
     "output_type": "display_data"
    }
   ],
   "source": [
    "# Further checks for outliers in numeric columns\n",
    "\n",
    "numeric_cols = ['mileage', 'year_of_registration', 'age']\n",
    "fig, axes = plt.subplots(1, 3, figsize=(15, 5))\n",
    "\n",
    "for index, column in enumerate(numeric_cols):\n",
    "  \n",
    "  numeric_df = outlier_free_data[[column]]\n",
    "  sns.boxplot(ax=axes[index], data=numeric_df)\n",
    "  axes[index].set_title(column)\n",
    "  fig.suptitle(\"FIG 1.0 NUMERIC DATA BOXPLOT(OUTLIER FREE)\")"
   ]
  },
  {
   "cell_type": "code",
   "execution_count": 42,
   "id": "8002f8d5",
   "metadata": {},
   "outputs": [
    {
     "data": {
      "text/html": [
       "<div>\n",
       "<style scoped>\n",
       "    .dataframe tbody tr th:only-of-type {\n",
       "        vertical-align: middle;\n",
       "    }\n",
       "\n",
       "    .dataframe tbody tr th {\n",
       "        vertical-align: top;\n",
       "    }\n",
       "\n",
       "    .dataframe thead th {\n",
       "        text-align: right;\n",
       "    }\n",
       "</style>\n",
       "<table border=\"1\" class=\"dataframe\">\n",
       "  <thead>\n",
       "    <tr style=\"text-align: right;\">\n",
       "      <th></th>\n",
       "      <th>mileage</th>\n",
       "      <th>standard_colour</th>\n",
       "      <th>standard_make</th>\n",
       "      <th>standard_model</th>\n",
       "      <th>year_of_registration</th>\n",
       "      <th>price</th>\n",
       "      <th>body_type</th>\n",
       "      <th>fuel_type</th>\n",
       "      <th>make_model</th>\n",
       "      <th>age</th>\n",
       "    </tr>\n",
       "  </thead>\n",
       "  <tbody>\n",
       "    <tr>\n",
       "      <th>0</th>\n",
       "      <td>31534.0</td>\n",
       "      <td>Grey</td>\n",
       "      <td>MINI</td>\n",
       "      <td>Hatch</td>\n",
       "      <td>2017.0</td>\n",
       "      <td>19000</td>\n",
       "      <td>Hatchback</td>\n",
       "      <td>Petrol</td>\n",
       "      <td>MINI - Hatch</td>\n",
       "      <td>5</td>\n",
       "    </tr>\n",
       "    <tr>\n",
       "      <th>1</th>\n",
       "      <td>52023.0</td>\n",
       "      <td>Blue</td>\n",
       "      <td>Volkswagen</td>\n",
       "      <td>Golf</td>\n",
       "      <td>2016.0</td>\n",
       "      <td>13500</td>\n",
       "      <td>Estate</td>\n",
       "      <td>Diesel</td>\n",
       "      <td>Volkswagen - Golf</td>\n",
       "      <td>6</td>\n",
       "    </tr>\n",
       "    <tr>\n",
       "      <th>2</th>\n",
       "      <td>29500.0</td>\n",
       "      <td>Grey</td>\n",
       "      <td>Mercedes-Benz</td>\n",
       "      <td>C Class</td>\n",
       "      <td>2012.0</td>\n",
       "      <td>9495</td>\n",
       "      <td>Saloon</td>\n",
       "      <td>Petrol</td>\n",
       "      <td>Mercedes-Benz - C Class</td>\n",
       "      <td>10</td>\n",
       "    </tr>\n",
       "    <tr>\n",
       "      <th>3</th>\n",
       "      <td>35300.0</td>\n",
       "      <td>Grey</td>\n",
       "      <td>Vauxhall</td>\n",
       "      <td>Corsa</td>\n",
       "      <td>2018.0</td>\n",
       "      <td>7293</td>\n",
       "      <td>Hatchback</td>\n",
       "      <td>Petrol</td>\n",
       "      <td>Vauxhall - Corsa</td>\n",
       "      <td>4</td>\n",
       "    </tr>\n",
       "    <tr>\n",
       "      <th>4</th>\n",
       "      <td>47299.0</td>\n",
       "      <td>Black</td>\n",
       "      <td>Nissan</td>\n",
       "      <td>Qashqai</td>\n",
       "      <td>2016.0</td>\n",
       "      <td>11500</td>\n",
       "      <td>SUV</td>\n",
       "      <td>Diesel</td>\n",
       "      <td>Nissan - Qashqai</td>\n",
       "      <td>6</td>\n",
       "    </tr>\n",
       "  </tbody>\n",
       "</table>\n",
       "</div>"
      ],
      "text/plain": [
       "   mileage standard_colour  standard_make standard_model  \\\n",
       "0  31534.0            Grey           MINI          Hatch   \n",
       "1  52023.0            Blue     Volkswagen           Golf   \n",
       "2  29500.0            Grey  Mercedes-Benz        C Class   \n",
       "3  35300.0            Grey       Vauxhall          Corsa   \n",
       "4  47299.0           Black         Nissan        Qashqai   \n",
       "\n",
       "   year_of_registration  price  body_type fuel_type               make_model  \\\n",
       "0                2017.0  19000  Hatchback    Petrol             MINI - Hatch   \n",
       "1                2016.0  13500     Estate    Diesel        Volkswagen - Golf   \n",
       "2                2012.0   9495     Saloon    Petrol  Mercedes-Benz - C Class   \n",
       "3                2018.0   7293  Hatchback    Petrol         Vauxhall - Corsa   \n",
       "4                2016.0  11500        SUV    Diesel         Nissan - Qashqai   \n",
       "\n",
       "   age  \n",
       "0    5  \n",
       "1    6  \n",
       "2   10  \n",
       "3    4  \n",
       "4    6  "
      ]
     },
     "execution_count": 42,
     "metadata": {},
     "output_type": "execute_result"
    }
   ],
   "source": [
    "clear_off = outlier_free_data\n",
    "clear_off.head()\n",
    "#len(clear_off.mileage)"
   ]
  },
  {
   "cell_type": "markdown",
   "id": "64fe807c",
   "metadata": {},
   "source": [
    "LIST OF SIGNIFICANT VARIABLES AFTER VISUAL ANALYSIS :\n",
    "-standard_colour\n",
    "-standard_make\n",
    "-standard_model\n",
    "-year_of_registration\n",
    "-price\n",
    "-body_type\n",
    "-fuel_type\n",
    "-mileage\n",
    "-age"
   ]
  },
  {
   "cell_type": "code",
   "execution_count": 43,
   "id": "e27c02c3",
   "metadata": {},
   "outputs": [
    {
     "data": {
      "text/html": [
       "<div>\n",
       "<style scoped>\n",
       "    .dataframe tbody tr th:only-of-type {\n",
       "        vertical-align: middle;\n",
       "    }\n",
       "\n",
       "    .dataframe tbody tr th {\n",
       "        vertical-align: top;\n",
       "    }\n",
       "\n",
       "    .dataframe thead th {\n",
       "        text-align: right;\n",
       "    }\n",
       "</style>\n",
       "<table border=\"1\" class=\"dataframe\">\n",
       "  <thead>\n",
       "    <tr style=\"text-align: right;\">\n",
       "      <th></th>\n",
       "      <th>price</th>\n",
       "      <th>mileage</th>\n",
       "      <th>age</th>\n",
       "      <th>standard_colour</th>\n",
       "      <th>standard_make</th>\n",
       "      <th>standard_model</th>\n",
       "      <th>year_of_registration</th>\n",
       "      <th>body_type</th>\n",
       "      <th>fuel_type</th>\n",
       "    </tr>\n",
       "  </thead>\n",
       "  <tbody>\n",
       "    <tr>\n",
       "      <th>0</th>\n",
       "      <td>19000</td>\n",
       "      <td>31534.0</td>\n",
       "      <td>5</td>\n",
       "      <td>Grey</td>\n",
       "      <td>MINI</td>\n",
       "      <td>Hatch</td>\n",
       "      <td>2017.0</td>\n",
       "      <td>Hatchback</td>\n",
       "      <td>Petrol</td>\n",
       "    </tr>\n",
       "    <tr>\n",
       "      <th>1</th>\n",
       "      <td>13500</td>\n",
       "      <td>52023.0</td>\n",
       "      <td>6</td>\n",
       "      <td>Blue</td>\n",
       "      <td>Volkswagen</td>\n",
       "      <td>Golf</td>\n",
       "      <td>2016.0</td>\n",
       "      <td>Estate</td>\n",
       "      <td>Diesel</td>\n",
       "    </tr>\n",
       "    <tr>\n",
       "      <th>2</th>\n",
       "      <td>9495</td>\n",
       "      <td>29500.0</td>\n",
       "      <td>10</td>\n",
       "      <td>Grey</td>\n",
       "      <td>Mercedes-Benz</td>\n",
       "      <td>C Class</td>\n",
       "      <td>2012.0</td>\n",
       "      <td>Saloon</td>\n",
       "      <td>Petrol</td>\n",
       "    </tr>\n",
       "    <tr>\n",
       "      <th>3</th>\n",
       "      <td>7293</td>\n",
       "      <td>35300.0</td>\n",
       "      <td>4</td>\n",
       "      <td>Grey</td>\n",
       "      <td>Vauxhall</td>\n",
       "      <td>Corsa</td>\n",
       "      <td>2018.0</td>\n",
       "      <td>Hatchback</td>\n",
       "      <td>Petrol</td>\n",
       "    </tr>\n",
       "    <tr>\n",
       "      <th>4</th>\n",
       "      <td>11500</td>\n",
       "      <td>47299.0</td>\n",
       "      <td>6</td>\n",
       "      <td>Black</td>\n",
       "      <td>Nissan</td>\n",
       "      <td>Qashqai</td>\n",
       "      <td>2016.0</td>\n",
       "      <td>SUV</td>\n",
       "      <td>Diesel</td>\n",
       "    </tr>\n",
       "  </tbody>\n",
       "</table>\n",
       "</div>"
      ],
      "text/plain": [
       "   price  mileage  age standard_colour  standard_make standard_model  \\\n",
       "0  19000  31534.0    5            Grey           MINI          Hatch   \n",
       "1  13500  52023.0    6            Blue     Volkswagen           Golf   \n",
       "2   9495  29500.0   10            Grey  Mercedes-Benz        C Class   \n",
       "3   7293  35300.0    4            Grey       Vauxhall          Corsa   \n",
       "4  11500  47299.0    6           Black         Nissan        Qashqai   \n",
       "\n",
       "   year_of_registration  body_type fuel_type  \n",
       "0                2017.0  Hatchback    Petrol  \n",
       "1                2016.0     Estate    Diesel  \n",
       "2                2012.0     Saloon    Petrol  \n",
       "3                2018.0  Hatchback    Petrol  \n",
       "4                2016.0        SUV    Diesel  "
      ]
     },
     "execution_count": 43,
     "metadata": {},
     "output_type": "execute_result"
    }
   ],
   "source": [
    "carss=cars[['price','mileage', 'age', 'standard_colour', 'standard_make', 'standard_model', 'year_of_registration', 'body_type', 'fuel_type']]\n",
    "carss.head()"
   ]
  },
  {
   "cell_type": "code",
   "execution_count": 44,
   "id": "63eee563",
   "metadata": {},
   "outputs": [
    {
     "data": {
      "image/png": "[encoded data removed]",
      "text/plain": [
       "<Figure size 720x720 with 20 Axes>"
      ]
     },
     "metadata": {},
     "output_type": "display_data"
    }
   ],
   "source": [
    "sns.pairplot(carss)\n",
    "plt.show()"
   ]
  },
  {
   "cell_type": "markdown",
   "id": "17b05a24",
   "metadata": {},
   "source": [
    "MODEL:\n",
    "TRAIN-TEST SPLIT AND FEATURE SCALING"
   ]
  },
  {
   "cell_type": "code",
   "execution_count": 45,
   "id": "ea2ff8f5",
   "metadata": {},
   "outputs": [],
   "source": [
    "lm = LinearRegression()\n",
    "from sklearn.model_selection import train_test_split\n",
    "from sklearn import preprocessing\n",
    "from sklearn.preprocessing import MinMaxScaler\n",
    "from sklearn.metrics import r2_score\n",
    "\n",
    "df = preprocessing.LabelEncoder()"
   ]
  },
  {
   "cell_type": "code",
   "execution_count": 46,
   "id": "479c4346",
   "metadata": {},
   "outputs": [],
   "source": [
    "clear_off['standard_colour'] = df.fit_transform(clear_off['standard_colour'])\n",
    "clear_off['standard_make'] = df.fit_transform(clear_off['standard_make'])\n",
    "clear_off['standard_model'] = df.fit_transform(clear_off['standard_model'])\n",
    "clear_off['body_type'] = df.fit_transform(clear_off['body_type'])\n",
    "clear_off['fuel_type'] = df.fit_transform(clear_off['fuel_type'])\n",
    "clear_off['make_model'] = df.fit_transform(clear_off['make_model'])\n",
    "\n"
   ]
  },
  {
   "cell_type": "code",
   "execution_count": 47,
   "id": "7cf1d21e",
   "metadata": {},
   "outputs": [
    {
     "data": {
      "text/html": [
       "<div>\n",
       "<style scoped>\n",
       "    .dataframe tbody tr th:only-of-type {\n",
       "        vertical-align: middle;\n",
       "    }\n",
       "\n",
       "    .dataframe tbody tr th {\n",
       "        vertical-align: top;\n",
       "    }\n",
       "\n",
       "    .dataframe thead th {\n",
       "        text-align: right;\n",
       "    }\n",
       "</style>\n",
       "<table border=\"1\" class=\"dataframe\">\n",
       "  <thead>\n",
       "    <tr style=\"text-align: right;\">\n",
       "      <th></th>\n",
       "      <th>mileage</th>\n",
       "      <th>standard_colour</th>\n",
       "      <th>standard_make</th>\n",
       "      <th>standard_model</th>\n",
       "      <th>year_of_registration</th>\n",
       "      <th>price</th>\n",
       "      <th>body_type</th>\n",
       "      <th>fuel_type</th>\n",
       "      <th>make_model</th>\n",
       "      <th>age</th>\n",
       "    </tr>\n",
       "  </thead>\n",
       "  <tbody>\n",
       "    <tr>\n",
       "      <th>0</th>\n",
       "      <td>31534.0</td>\n",
       "      <td>2</td>\n",
       "      <td>4</td>\n",
       "      <td>13</td>\n",
       "      <td>2017.0</td>\n",
       "      <td>19000</td>\n",
       "      <td>2</td>\n",
       "      <td>1</td>\n",
       "      <td>7</td>\n",
       "      <td>5</td>\n",
       "    </tr>\n",
       "    <tr>\n",
       "      <th>1</th>\n",
       "      <td>52023.0</td>\n",
       "      <td>1</td>\n",
       "      <td>10</td>\n",
       "      <td>12</td>\n",
       "      <td>2016.0</td>\n",
       "      <td>13500</td>\n",
       "      <td>1</td>\n",
       "      <td>0</td>\n",
       "      <td>17</td>\n",
       "      <td>6</td>\n",
       "    </tr>\n",
       "    <tr>\n",
       "      <th>2</th>\n",
       "      <td>29500.0</td>\n",
       "      <td>2</td>\n",
       "      <td>5</td>\n",
       "      <td>8</td>\n",
       "      <td>2012.0</td>\n",
       "      <td>9495</td>\n",
       "      <td>4</td>\n",
       "      <td>1</td>\n",
       "      <td>9</td>\n",
       "      <td>10</td>\n",
       "    </tr>\n",
       "    <tr>\n",
       "      <th>3</th>\n",
       "      <td>35300.0</td>\n",
       "      <td>2</td>\n",
       "      <td>9</td>\n",
       "      <td>10</td>\n",
       "      <td>2018.0</td>\n",
       "      <td>7293</td>\n",
       "      <td>2</td>\n",
       "      <td>1</td>\n",
       "      <td>16</td>\n",
       "      <td>4</td>\n",
       "    </tr>\n",
       "    <tr>\n",
       "      <th>4</th>\n",
       "      <td>47299.0</td>\n",
       "      <td>0</td>\n",
       "      <td>6</td>\n",
       "      <td>16</td>\n",
       "      <td>2016.0</td>\n",
       "      <td>11500</td>\n",
       "      <td>3</td>\n",
       "      <td>0</td>\n",
       "      <td>12</td>\n",
       "      <td>6</td>\n",
       "    </tr>\n",
       "  </tbody>\n",
       "</table>\n",
       "</div>"
      ],
      "text/plain": [
       "   mileage  standard_colour  standard_make  standard_model  \\\n",
       "0  31534.0                2              4              13   \n",
       "1  52023.0                1             10              12   \n",
       "2  29500.0                2              5               8   \n",
       "3  35300.0                2              9              10   \n",
       "4  47299.0                0              6              16   \n",
       "\n",
       "   year_of_registration  price  body_type  fuel_type  make_model  age  \n",
       "0                2017.0  19000          2          1           7    5  \n",
       "1                2016.0  13500          1          0          17    6  \n",
       "2                2012.0   9495          4          1           9   10  \n",
       "3                2018.0   7293          2          1          16    4  \n",
       "4                2016.0  11500          3          0          12    6  "
      ]
     },
     "execution_count": 47,
     "metadata": {},
     "output_type": "execute_result"
    }
   ],
   "source": [
    "clear_off.head()"
   ]
  },
  {
   "cell_type": "code",
   "execution_count": 48,
   "id": "c874c2c3",
   "metadata": {},
   "outputs": [
    {
     "data": {
      "text/html": [
       "<div>\n",
       "<style scoped>\n",
       "    .dataframe tbody tr th:only-of-type {\n",
       "        vertical-align: middle;\n",
       "    }\n",
       "\n",
       "    .dataframe tbody tr th {\n",
       "        vertical-align: top;\n",
       "    }\n",
       "\n",
       "    .dataframe thead th {\n",
       "        text-align: right;\n",
       "    }\n",
       "</style>\n",
       "<table border=\"1\" class=\"dataframe\">\n",
       "  <thead>\n",
       "    <tr style=\"text-align: right;\">\n",
       "      <th></th>\n",
       "      <th>mileage</th>\n",
       "      <th>standard_colour</th>\n",
       "      <th>standard_make</th>\n",
       "      <th>standard_model</th>\n",
       "      <th>year_of_registration</th>\n",
       "      <th>price</th>\n",
       "      <th>body_type</th>\n",
       "      <th>fuel_type</th>\n",
       "      <th>make_model</th>\n",
       "      <th>age</th>\n",
       "    </tr>\n",
       "  </thead>\n",
       "  <tbody>\n",
       "    <tr>\n",
       "      <th>count</th>\n",
       "      <td>84072.000000</td>\n",
       "      <td>84072.000000</td>\n",
       "      <td>84072.000000</td>\n",
       "      <td>84072.000000</td>\n",
       "      <td>84072.000000</td>\n",
       "      <td>84072.000000</td>\n",
       "      <td>84072.000000</td>\n",
       "      <td>84072.000000</td>\n",
       "      <td>84072.000000</td>\n",
       "      <td>84072.000000</td>\n",
       "    </tr>\n",
       "    <tr>\n",
       "      <th>mean</th>\n",
       "      <td>37679.036433</td>\n",
       "      <td>1.914775</td>\n",
       "      <td>5.165120</td>\n",
       "      <td>8.868149</td>\n",
       "      <td>2015.915323</td>\n",
       "      <td>12634.307808</td>\n",
       "      <td>2.311685</td>\n",
       "      <td>0.558557</td>\n",
       "      <td>9.458595</td>\n",
       "      <td>6.084677</td>\n",
       "    </tr>\n",
       "    <tr>\n",
       "      <th>std</th>\n",
       "      <td>27513.025114</td>\n",
       "      <td>1.536046</td>\n",
       "      <td>3.456518</td>\n",
       "      <td>5.261452</td>\n",
       "      <td>2.573436</td>\n",
       "      <td>5887.827095</td>\n",
       "      <td>0.885363</td>\n",
       "      <td>0.496562</td>\n",
       "      <td>5.739188</td>\n",
       "      <td>2.573436</td>\n",
       "    </tr>\n",
       "    <tr>\n",
       "      <th>min</th>\n",
       "      <td>0.000000</td>\n",
       "      <td>0.000000</td>\n",
       "      <td>0.000000</td>\n",
       "      <td>0.000000</td>\n",
       "      <td>2010.000000</td>\n",
       "      <td>795.000000</td>\n",
       "      <td>0.000000</td>\n",
       "      <td>0.000000</td>\n",
       "      <td>0.000000</td>\n",
       "      <td>2.000000</td>\n",
       "    </tr>\n",
       "    <tr>\n",
       "      <th>25%</th>\n",
       "      <td>16224.500000</td>\n",
       "      <td>0.000000</td>\n",
       "      <td>1.000000</td>\n",
       "      <td>4.000000</td>\n",
       "      <td>2014.000000</td>\n",
       "      <td>8295.000000</td>\n",
       "      <td>2.000000</td>\n",
       "      <td>0.000000</td>\n",
       "      <td>4.000000</td>\n",
       "      <td>4.000000</td>\n",
       "    </tr>\n",
       "    <tr>\n",
       "      <th>50%</th>\n",
       "      <td>31513.500000</td>\n",
       "      <td>2.000000</td>\n",
       "      <td>5.000000</td>\n",
       "      <td>9.000000</td>\n",
       "      <td>2016.000000</td>\n",
       "      <td>11800.000000</td>\n",
       "      <td>2.000000</td>\n",
       "      <td>1.000000</td>\n",
       "      <td>9.000000</td>\n",
       "      <td>6.000000</td>\n",
       "    </tr>\n",
       "    <tr>\n",
       "      <th>75%</th>\n",
       "      <td>54000.000000</td>\n",
       "      <td>3.000000</td>\n",
       "      <td>9.000000</td>\n",
       "      <td>13.000000</td>\n",
       "      <td>2018.000000</td>\n",
       "      <td>16200.000000</td>\n",
       "      <td>3.000000</td>\n",
       "      <td>1.000000</td>\n",
       "      <td>15.000000</td>\n",
       "      <td>8.000000</td>\n",
       "    </tr>\n",
       "    <tr>\n",
       "      <th>max</th>\n",
       "      <td>129463.000000</td>\n",
       "      <td>4.000000</td>\n",
       "      <td>10.000000</td>\n",
       "      <td>18.000000</td>\n",
       "      <td>2020.000000</td>\n",
       "      <td>29495.000000</td>\n",
       "      <td>4.000000</td>\n",
       "      <td>1.000000</td>\n",
       "      <td>18.000000</td>\n",
       "      <td>12.000000</td>\n",
       "    </tr>\n",
       "  </tbody>\n",
       "</table>\n",
       "</div>"
      ],
      "text/plain": [
       "             mileage  standard_colour  standard_make  standard_model  \\\n",
       "count   84072.000000     84072.000000   84072.000000    84072.000000   \n",
       "mean    37679.036433         1.914775       5.165120        8.868149   \n",
       "std     27513.025114         1.536046       3.456518        5.261452   \n",
       "min         0.000000         0.000000       0.000000        0.000000   \n",
       "25%     16224.500000         0.000000       1.000000        4.000000   \n",
       "50%     31513.500000         2.000000       5.000000        9.000000   \n",
       "75%     54000.000000         3.000000       9.000000       13.000000   \n",
       "max    129463.000000         4.000000      10.000000       18.000000   \n",
       "\n",
       "       year_of_registration         price     body_type     fuel_type  \\\n",
       "count          84072.000000  84072.000000  84072.000000  84072.000000   \n",
       "mean            2015.915323  12634.307808      2.311685      0.558557   \n",
       "std                2.573436   5887.827095      0.885363      0.496562   \n",
       "min             2010.000000    795.000000      0.000000      0.000000   \n",
       "25%             2014.000000   8295.000000      2.000000      0.000000   \n",
       "50%             2016.000000  11800.000000      2.000000      1.000000   \n",
       "75%             2018.000000  16200.000000      3.000000      1.000000   \n",
       "max             2020.000000  29495.000000      4.000000      1.000000   \n",
       "\n",
       "         make_model           age  \n",
       "count  84072.000000  84072.000000  \n",
       "mean       9.458595      6.084677  \n",
       "std        5.739188      2.573436  \n",
       "min        0.000000      2.000000  \n",
       "25%        4.000000      4.000000  \n",
       "50%        9.000000      6.000000  \n",
       "75%       15.000000      8.000000  \n",
       "max       18.000000     12.000000  "
      ]
     },
     "execution_count": 48,
     "metadata": {},
     "output_type": "execute_result"
    }
   ],
   "source": [
    "clear_off.describe()"
   ]
  },
  {
   "cell_type": "code",
   "execution_count": 49,
   "id": "c4b31bb2",
   "metadata": {},
   "outputs": [],
   "source": [
    "x = clear_off.loc[:, clear.columns != \"price\"]\n",
    "y = clear_off.price"
   ]
  },
  {
   "cell_type": "code",
   "execution_count": 50,
   "id": "abb32a91",
   "metadata": {},
   "outputs": [
    {
     "data": {
      "text/html": [
       "<div>\n",
       "<style scoped>\n",
       "    .dataframe tbody tr th:only-of-type {\n",
       "        vertical-align: middle;\n",
       "    }\n",
       "\n",
       "    .dataframe tbody tr th {\n",
       "        vertical-align: top;\n",
       "    }\n",
       "\n",
       "    .dataframe thead th {\n",
       "        text-align: right;\n",
       "    }\n",
       "</style>\n",
       "<table border=\"1\" class=\"dataframe\">\n",
       "  <thead>\n",
       "    <tr style=\"text-align: right;\">\n",
       "      <th></th>\n",
       "      <th>mileage</th>\n",
       "      <th>standard_colour</th>\n",
       "      <th>standard_make</th>\n",
       "      <th>standard_model</th>\n",
       "      <th>year_of_registration</th>\n",
       "      <th>body_type</th>\n",
       "      <th>fuel_type</th>\n",
       "      <th>make_model</th>\n",
       "      <th>age</th>\n",
       "    </tr>\n",
       "  </thead>\n",
       "  <tbody>\n",
       "    <tr>\n",
       "      <th>0</th>\n",
       "      <td>31534.0</td>\n",
       "      <td>2</td>\n",
       "      <td>4</td>\n",
       "      <td>13</td>\n",
       "      <td>2017.0</td>\n",
       "      <td>2</td>\n",
       "      <td>1</td>\n",
       "      <td>7</td>\n",
       "      <td>5</td>\n",
       "    </tr>\n",
       "    <tr>\n",
       "      <th>1</th>\n",
       "      <td>52023.0</td>\n",
       "      <td>1</td>\n",
       "      <td>10</td>\n",
       "      <td>12</td>\n",
       "      <td>2016.0</td>\n",
       "      <td>1</td>\n",
       "      <td>0</td>\n",
       "      <td>17</td>\n",
       "      <td>6</td>\n",
       "    </tr>\n",
       "    <tr>\n",
       "      <th>2</th>\n",
       "      <td>29500.0</td>\n",
       "      <td>2</td>\n",
       "      <td>5</td>\n",
       "      <td>8</td>\n",
       "      <td>2012.0</td>\n",
       "      <td>4</td>\n",
       "      <td>1</td>\n",
       "      <td>9</td>\n",
       "      <td>10</td>\n",
       "    </tr>\n",
       "    <tr>\n",
       "      <th>3</th>\n",
       "      <td>35300.0</td>\n",
       "      <td>2</td>\n",
       "      <td>9</td>\n",
       "      <td>10</td>\n",
       "      <td>2018.0</td>\n",
       "      <td>2</td>\n",
       "      <td>1</td>\n",
       "      <td>16</td>\n",
       "      <td>4</td>\n",
       "    </tr>\n",
       "    <tr>\n",
       "      <th>4</th>\n",
       "      <td>47299.0</td>\n",
       "      <td>0</td>\n",
       "      <td>6</td>\n",
       "      <td>16</td>\n",
       "      <td>2016.0</td>\n",
       "      <td>3</td>\n",
       "      <td>0</td>\n",
       "      <td>12</td>\n",
       "      <td>6</td>\n",
       "    </tr>\n",
       "    <tr>\n",
       "      <th>5</th>\n",
       "      <td>7990.0</td>\n",
       "      <td>0</td>\n",
       "      <td>8</td>\n",
       "      <td>18</td>\n",
       "      <td>2019.0</td>\n",
       "      <td>2</td>\n",
       "      <td>1</td>\n",
       "      <td>14</td>\n",
       "      <td>3</td>\n",
       "    </tr>\n",
       "    <tr>\n",
       "      <th>6</th>\n",
       "      <td>17020.0</td>\n",
       "      <td>2</td>\n",
       "      <td>9</td>\n",
       "      <td>10</td>\n",
       "      <td>2017.0</td>\n",
       "      <td>2</td>\n",
       "      <td>1</td>\n",
       "      <td>16</td>\n",
       "      <td>5</td>\n",
       "    </tr>\n",
       "    <tr>\n",
       "      <th>7</th>\n",
       "      <td>35000.0</td>\n",
       "      <td>0</td>\n",
       "      <td>10</td>\n",
       "      <td>12</td>\n",
       "      <td>2014.0</td>\n",
       "      <td>2</td>\n",
       "      <td>0</td>\n",
       "      <td>17</td>\n",
       "      <td>8</td>\n",
       "    </tr>\n",
       "    <tr>\n",
       "      <th>9</th>\n",
       "      <td>64785.0</td>\n",
       "      <td>3</td>\n",
       "      <td>10</td>\n",
       "      <td>15</td>\n",
       "      <td>2011.0</td>\n",
       "      <td>2</td>\n",
       "      <td>0</td>\n",
       "      <td>18</td>\n",
       "      <td>11</td>\n",
       "    </tr>\n",
       "    <tr>\n",
       "      <th>10</th>\n",
       "      <td>117420.0</td>\n",
       "      <td>3</td>\n",
       "      <td>9</td>\n",
       "      <td>7</td>\n",
       "      <td>2011.0</td>\n",
       "      <td>1</td>\n",
       "      <td>0</td>\n",
       "      <td>15</td>\n",
       "      <td>11</td>\n",
       "    </tr>\n",
       "    <tr>\n",
       "      <th>11</th>\n",
       "      <td>47000.0</td>\n",
       "      <td>0</td>\n",
       "      <td>0</td>\n",
       "      <td>5</td>\n",
       "      <td>2016.0</td>\n",
       "      <td>2</td>\n",
       "      <td>1</td>\n",
       "      <td>0</td>\n",
       "      <td>6</td>\n",
       "    </tr>\n",
       "  </tbody>\n",
       "</table>\n",
       "</div>"
      ],
      "text/plain": [
       "     mileage  standard_colour  standard_make  standard_model  \\\n",
       "0    31534.0                2              4              13   \n",
       "1    52023.0                1             10              12   \n",
       "2    29500.0                2              5               8   \n",
       "3    35300.0                2              9              10   \n",
       "4    47299.0                0              6              16   \n",
       "5     7990.0                0              8              18   \n",
       "6    17020.0                2              9              10   \n",
       "7    35000.0                0             10              12   \n",
       "9    64785.0                3             10              15   \n",
       "10  117420.0                3              9               7   \n",
       "11   47000.0                0              0               5   \n",
       "\n",
       "    year_of_registration  body_type  fuel_type  make_model  age  \n",
       "0                 2017.0          2          1           7    5  \n",
       "1                 2016.0          1          0          17    6  \n",
       "2                 2012.0          4          1           9   10  \n",
       "3                 2018.0          2          1          16    4  \n",
       "4                 2016.0          3          0          12    6  \n",
       "5                 2019.0          2          1          14    3  \n",
       "6                 2017.0          2          1          16    5  \n",
       "7                 2014.0          2          0          17    8  \n",
       "9                 2011.0          2          0          18   11  \n",
       "10                2011.0          1          0          15   11  \n",
       "11                2016.0          2          1           0    6  "
      ]
     },
     "execution_count": 50,
     "metadata": {},
     "output_type": "execute_result"
    }
   ],
   "source": [
    "x.head(11)"
   ]
  },
  {
   "cell_type": "code",
   "execution_count": 51,
   "id": "308b195e",
   "metadata": {},
   "outputs": [],
   "source": [
    "x_test, x_train, y_test, y_train = train_test_split(x, y, test_size = 0.4, train_size = 0.6, random_state = 20) "
   ]
  },
  {
   "cell_type": "code",
   "execution_count": 52,
   "id": "8f3096e0",
   "metadata": {},
   "outputs": [
    {
     "data": {
      "text/plain": [
       "array([13251.87221866,  8750.23242114,  3349.25380154, ...,\n",
       "       14732.66694049, 10679.4310265 , 19345.43348968])"
      ]
     },
     "execution_count": 52,
     "metadata": {},
     "output_type": "execute_result"
    }
   ],
   "source": [
    "lm.fit(x_train, y_train)\n",
    "q_predt = lm.predict(x_train)\n",
    "q_predt"
   ]
  },
  {
   "cell_type": "code",
   "execution_count": 53,
   "id": "b2c845e0",
   "metadata": {},
   "outputs": [],
   "source": [
    "q_preds = lm.predict(x_test)"
   ]
  },
  {
   "cell_type": "code",
   "execution_count": 54,
   "id": "a4c9288e",
   "metadata": {},
   "outputs": [
    {
     "data": {
      "text/plain": [
       "array([13581.71509146])"
      ]
     },
     "execution_count": 54,
     "metadata": {},
     "output_type": "execute_result"
    }
   ],
   "source": [
    "lm.predict([[31534.0,2, 4,13,2017.0,2,1,7,5]])"
   ]
  },
  {
   "cell_type": "code",
   "execution_count": 55,
   "id": "c6caa15d",
   "metadata": {},
   "outputs": [
    {
     "data": {
      "text/plain": [
       "array([-5.01999473e-02, -4.84558117e+01,  1.29374840e+02, -3.02236122e+01,\n",
       "        6.19505531e+02,  4.28293684e+02, -2.24769784e+03, -2.84351644e+02,\n",
       "       -6.19505531e+02])"
      ]
     },
     "execution_count": 55,
     "metadata": {},
     "output_type": "execute_result"
    }
   ],
   "source": [
    "lm.coef_"
   ]
  },
  {
   "cell_type": "code",
   "execution_count": 56,
   "id": "061c5e5b",
   "metadata": {},
   "outputs": [
    {
     "data": {
      "text/plain": [
       "-1227926.5167114558"
      ]
     },
     "execution_count": 56,
     "metadata": {},
     "output_type": "execute_result"
    }
   ],
   "source": [
    "lm.intercept_"
   ]
  },
  {
   "cell_type": "code",
   "execution_count": 57,
   "id": "e0537915",
   "metadata": {},
   "outputs": [
    {
     "data": {
      "text/plain": [
       "Text(0.5, 0, 'Errors')"
      ]
     },
     "execution_count": 57,
     "metadata": {},
     "output_type": "execute_result"
    },
    {
     "data": {
      "image/png": "[encoded data removed]",
      "text/plain": [
       "<Figure size 432x288 with 1 Axes>"
      ]
     },
     "metadata": {},
     "output_type": "display_data"
    }
   ],
   "source": [
    "#Plot the histogram of the error terms\n",
    "fig = plt.figure()\n",
    "sns.distplot((y_train - q_predt), bins = 20)\n",
    "fig.suptitle('Error Terms', fontsize = 20)                 \n",
    "plt.xlabel('Errors', fontsize = 18)   "
   ]
  },
  {
   "cell_type": "markdown",
   "id": "9e788b3b",
   "metadata": {},
   "source": [
    "INFERENCE:\n",
    "    The error terms look to be normally and approximately distributed, so the assumption on the linear modeling seeems to be fulfilled."
   ]
  },
  {
   "cell_type": "markdown",
   "id": "e1353c47",
   "metadata": {},
   "source": [
    "EVALUATION OF TEST VIA COMPARISON OF y_pred and y_test"
   ]
  },
  {
   "cell_type": "code",
   "execution_count": 58,
   "id": "f08d2278",
   "metadata": {},
   "outputs": [
    {
     "data": {
      "text/plain": [
       "0.5876362196209213"
      ]
     },
     "execution_count": 58,
     "metadata": {},
     "output_type": "execute_result"
    }
   ],
   "source": [
    "y_pred = lm.predict(x_test)\n",
    "r2_score(y_test, y_pred)"
   ]
  },
  {
   "cell_type": "code",
   "execution_count": 59,
   "id": "be1ed417",
   "metadata": {},
   "outputs": [
    {
     "data": {
      "text/plain": [
       "Text(0, 0.5, 'y_pred')"
      ]
     },
     "execution_count": 59,
     "metadata": {},
     "output_type": "execute_result"
    },
    {
     "data": {
      "image/png": "[encoded data removed]",
      "text/plain": [
       "<Figure size 432x288 with 1 Axes>"
      ]
     },
     "metadata": {},
     "output_type": "display_data"
    }
   ],
   "source": [
    "#EVALUATION OF THE MODEL\n",
    "# Plotting y_test and y_pred to understand the spread.\n",
    "fig = plt.figure()\n",
    "plt.scatter(y_test,y_pred)\n",
    "fig.suptitle('y_test vs y_pred', fontsize=20)              \n",
    "plt.xlabel('y_test', fontsize=18)                          \n",
    "plt.ylabel('y_pred', fontsize=16)"
   ]
  },
  {
   "cell_type": "markdown",
   "id": "4c7f6ac2",
   "metadata": {},
   "source": [
    "INFERENCE:\n",
    "    Approximately 59% of the data set fits the linear regression model."
   ]
  },
  {
   "cell_type": "code",
   "execution_count": null,
   "id": "fe44b84f",
   "metadata": {},
   "outputs": [],
   "source": []
  }
 ],
 "metadata": {
  "kernelspec": {
   "display_name": "Python 3 (ipykernel)",
   "language": "python",
   "name": "python3"
  },
  "language_info": {
   "codemirror_mode": {
    "name": "ipython",
    "version": 3
   },
   "file_extension": ".py",
   "mimetype": "text/x-python",
   "name": "python",
   "nbconvert_exporter": "python",
   "pygments_lexer": "ipython3",
   "version": "3.8.8"
  }
 },
 "nbformat": 4,
 "nbformat_minor": 5
}
