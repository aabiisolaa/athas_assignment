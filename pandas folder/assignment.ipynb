{
 "cells": [
  {
   "cell_type": "code",
   "execution_count": 1,
   "id": "3a3ff61a",
   "metadata": {},
   "outputs": [],
   "source": [
    "import pandas as pd\n",
    "import numpy as np"
   ]
  },
  {
   "cell_type": "code",
   "execution_count": 2,
   "id": "0d69b56d",
   "metadata": {},
   "outputs": [],
   "source": [
    "import matplotlib\n",
    "import matplotlib.pyplot as plt"
   ]
  },
  {
   "cell_type": "code",
   "execution_count": 3,
   "id": "024b13ea",
   "metadata": {
    "collapsed": true
   },
   "outputs": [
    {
     "data": {
      "text/html": [
       "<div>\n",
       "<style scoped>\n",
       "    .dataframe tbody tr th:only-of-type {\n",
       "        vertical-align: middle;\n",
       "    }\n",
       "\n",
       "    .dataframe tbody tr th {\n",
       "        vertical-align: top;\n",
       "    }\n",
       "\n",
       "    .dataframe thead th {\n",
       "        text-align: right;\n",
       "    }\n",
       "</style>\n",
       "<table border=\"1\" class=\"dataframe\">\n",
       "  <thead>\n",
       "    <tr style=\"text-align: right;\">\n",
       "      <th></th>\n",
       "      <th>public_reference</th>\n",
       "      <th>mileage</th>\n",
       "      <th>reg_code</th>\n",
       "      <th>standard_colour</th>\n",
       "      <th>standard_make</th>\n",
       "      <th>standard_model</th>\n",
       "      <th>vehicle_condition</th>\n",
       "      <th>year_of_registration</th>\n",
       "      <th>price</th>\n",
       "      <th>body_type</th>\n",
       "      <th>crossover_car_and_van</th>\n",
       "      <th>fuel_type</th>\n",
       "      <th>make_model</th>\n",
       "      <th>age</th>\n",
       "    </tr>\n",
       "  </thead>\n",
       "  <tbody>\n",
       "    <tr>\n",
       "      <th>0</th>\n",
       "      <td>202010014440649</td>\n",
       "      <td>31534.0</td>\n",
       "      <td>17</td>\n",
       "      <td>Grey</td>\n",
       "      <td>MINI</td>\n",
       "      <td>Hatch</td>\n",
       "      <td>USED</td>\n",
       "      <td>2017.0</td>\n",
       "      <td>19000</td>\n",
       "      <td>Hatchback</td>\n",
       "      <td>False</td>\n",
       "      <td>Petrol</td>\n",
       "      <td>MINI - Hatch</td>\n",
       "      <td>5</td>\n",
       "    </tr>\n",
       "    <tr>\n",
       "      <th>1</th>\n",
       "      <td>202010155026725</td>\n",
       "      <td>52023.0</td>\n",
       "      <td>66</td>\n",
       "      <td>Blue</td>\n",
       "      <td>Volkswagen</td>\n",
       "      <td>Golf</td>\n",
       "      <td>USED</td>\n",
       "      <td>2016.0</td>\n",
       "      <td>13500</td>\n",
       "      <td>Estate</td>\n",
       "      <td>False</td>\n",
       "      <td>Diesel</td>\n",
       "      <td>Volkswagen - Golf</td>\n",
       "      <td>6</td>\n",
       "    </tr>\n",
       "    <tr>\n",
       "      <th>2</th>\n",
       "      <td>202008142485309</td>\n",
       "      <td>29500.0</td>\n",
       "      <td>12</td>\n",
       "      <td>Grey</td>\n",
       "      <td>Mercedes-Benz</td>\n",
       "      <td>C Class</td>\n",
       "      <td>USED</td>\n",
       "      <td>2012.0</td>\n",
       "      <td>9495</td>\n",
       "      <td>Saloon</td>\n",
       "      <td>False</td>\n",
       "      <td>Petrol</td>\n",
       "      <td>Mercedes-Benz - C Class</td>\n",
       "      <td>10</td>\n",
       "    </tr>\n",
       "    <tr>\n",
       "      <th>3</th>\n",
       "      <td>202009183894045</td>\n",
       "      <td>35300.0</td>\n",
       "      <td>18</td>\n",
       "      <td>Grey</td>\n",
       "      <td>Vauxhall</td>\n",
       "      <td>Corsa</td>\n",
       "      <td>USED</td>\n",
       "      <td>2018.0</td>\n",
       "      <td>7293</td>\n",
       "      <td>Hatchback</td>\n",
       "      <td>False</td>\n",
       "      <td>Petrol</td>\n",
       "      <td>Vauxhall - Corsa</td>\n",
       "      <td>4</td>\n",
       "    </tr>\n",
       "    <tr>\n",
       "      <th>4</th>\n",
       "      <td>202010014441671</td>\n",
       "      <td>47299.0</td>\n",
       "      <td>65</td>\n",
       "      <td>Black</td>\n",
       "      <td>Nissan</td>\n",
       "      <td>Qashqai</td>\n",
       "      <td>USED</td>\n",
       "      <td>2016.0</td>\n",
       "      <td>11500</td>\n",
       "      <td>SUV</td>\n",
       "      <td>False</td>\n",
       "      <td>Diesel</td>\n",
       "      <td>Nissan - Qashqai</td>\n",
       "      <td>6</td>\n",
       "    </tr>\n",
       "    <tr>\n",
       "      <th>...</th>\n",
       "      <td>...</td>\n",
       "      <td>...</td>\n",
       "      <td>...</td>\n",
       "      <td>...</td>\n",
       "      <td>...</td>\n",
       "      <td>...</td>\n",
       "      <td>...</td>\n",
       "      <td>...</td>\n",
       "      <td>...</td>\n",
       "      <td>...</td>\n",
       "      <td>...</td>\n",
       "      <td>...</td>\n",
       "      <td>...</td>\n",
       "      <td>...</td>\n",
       "    </tr>\n",
       "    <tr>\n",
       "      <th>96264</th>\n",
       "      <td>202010295556637</td>\n",
       "      <td>28225.0</td>\n",
       "      <td>17</td>\n",
       "      <td>White</td>\n",
       "      <td>Mercedes-Benz</td>\n",
       "      <td>C Class</td>\n",
       "      <td>USED</td>\n",
       "      <td>2017.0</td>\n",
       "      <td>18499</td>\n",
       "      <td>Saloon</td>\n",
       "      <td>False</td>\n",
       "      <td>Diesel</td>\n",
       "      <td>Mercedes-Benz - C Class</td>\n",
       "      <td>5</td>\n",
       "    </tr>\n",
       "    <tr>\n",
       "      <th>96265</th>\n",
       "      <td>202010305614799</td>\n",
       "      <td>122000.0</td>\n",
       "      <td>07</td>\n",
       "      <td>Silver</td>\n",
       "      <td>BMW</td>\n",
       "      <td>3 Series</td>\n",
       "      <td>USED</td>\n",
       "      <td>2007.0</td>\n",
       "      <td>1990</td>\n",
       "      <td>Saloon</td>\n",
       "      <td>False</td>\n",
       "      <td>Petrol</td>\n",
       "      <td>BMW - 3 Series</td>\n",
       "      <td>15</td>\n",
       "    </tr>\n",
       "    <tr>\n",
       "      <th>96266</th>\n",
       "      <td>202010315639231</td>\n",
       "      <td>45000.0</td>\n",
       "      <td>15</td>\n",
       "      <td>Silver</td>\n",
       "      <td>Vauxhall</td>\n",
       "      <td>Corsa</td>\n",
       "      <td>USED</td>\n",
       "      <td>2015.0</td>\n",
       "      <td>5000</td>\n",
       "      <td>Hatchback</td>\n",
       "      <td>False</td>\n",
       "      <td>Petrol</td>\n",
       "      <td>Vauxhall - Corsa</td>\n",
       "      <td>7</td>\n",
       "    </tr>\n",
       "    <tr>\n",
       "      <th>96267</th>\n",
       "      <td>202010315647416</td>\n",
       "      <td>4075.0</td>\n",
       "      <td>69</td>\n",
       "      <td>Grey</td>\n",
       "      <td>Nissan</td>\n",
       "      <td>Juke</td>\n",
       "      <td>USED</td>\n",
       "      <td>2019.0</td>\n",
       "      <td>18000</td>\n",
       "      <td>SUV</td>\n",
       "      <td>False</td>\n",
       "      <td>Petrol</td>\n",
       "      <td>Nissan - Juke</td>\n",
       "      <td>3</td>\n",
       "    </tr>\n",
       "    <tr>\n",
       "      <th>96268</th>\n",
       "      <td>202010315659271</td>\n",
       "      <td>52760.0</td>\n",
       "      <td>62</td>\n",
       "      <td>White</td>\n",
       "      <td>Nissan</td>\n",
       "      <td>Qashqai</td>\n",
       "      <td>USED</td>\n",
       "      <td>2012.0</td>\n",
       "      <td>7250</td>\n",
       "      <td>SUV</td>\n",
       "      <td>False</td>\n",
       "      <td>Petrol</td>\n",
       "      <td>Nissan - Qashqai</td>\n",
       "      <td>10</td>\n",
       "    </tr>\n",
       "  </tbody>\n",
       "</table>\n",
       "<p>96269 rows × 14 columns</p>\n",
       "</div>"
      ],
      "text/plain": [
       "       public_reference   mileage reg_code standard_colour  standard_make  \\\n",
       "0       202010014440649   31534.0       17            Grey           MINI   \n",
       "1       202010155026725   52023.0       66            Blue     Volkswagen   \n",
       "2       202008142485309   29500.0       12            Grey  Mercedes-Benz   \n",
       "3       202009183894045   35300.0       18            Grey       Vauxhall   \n",
       "4       202010014441671   47299.0       65           Black         Nissan   \n",
       "...                 ...       ...      ...             ...            ...   \n",
       "96264   202010295556637   28225.0       17           White  Mercedes-Benz   \n",
       "96265   202010305614799  122000.0       07          Silver            BMW   \n",
       "96266   202010315639231   45000.0       15          Silver       Vauxhall   \n",
       "96267   202010315647416    4075.0       69            Grey         Nissan   \n",
       "96268   202010315659271   52760.0       62           White         Nissan   \n",
       "\n",
       "      standard_model vehicle_condition  year_of_registration  price  \\\n",
       "0              Hatch              USED                2017.0  19000   \n",
       "1               Golf              USED                2016.0  13500   \n",
       "2            C Class              USED                2012.0   9495   \n",
       "3              Corsa              USED                2018.0   7293   \n",
       "4            Qashqai              USED                2016.0  11500   \n",
       "...              ...               ...                   ...    ...   \n",
       "96264        C Class              USED                2017.0  18499   \n",
       "96265       3 Series              USED                2007.0   1990   \n",
       "96266          Corsa              USED                2015.0   5000   \n",
       "96267           Juke              USED                2019.0  18000   \n",
       "96268        Qashqai              USED                2012.0   7250   \n",
       "\n",
       "       body_type  crossover_car_and_van fuel_type               make_model  \\\n",
       "0      Hatchback                  False    Petrol             MINI - Hatch   \n",
       "1         Estate                  False    Diesel        Volkswagen - Golf   \n",
       "2         Saloon                  False    Petrol  Mercedes-Benz - C Class   \n",
       "3      Hatchback                  False    Petrol         Vauxhall - Corsa   \n",
       "4            SUV                  False    Diesel         Nissan - Qashqai   \n",
       "...          ...                    ...       ...                      ...   \n",
       "96264     Saloon                  False    Diesel  Mercedes-Benz - C Class   \n",
       "96265     Saloon                  False    Petrol           BMW - 3 Series   \n",
       "96266  Hatchback                  False    Petrol         Vauxhall - Corsa   \n",
       "96267        SUV                  False    Petrol            Nissan - Juke   \n",
       "96268        SUV                  False    Petrol         Nissan - Qashqai   \n",
       "\n",
       "       age  \n",
       "0        5  \n",
       "1        6  \n",
       "2       10  \n",
       "3        4  \n",
       "4        6  \n",
       "...    ...  \n",
       "96264    5  \n",
       "96265   15  \n",
       "96266    7  \n",
       "96267    3  \n",
       "96268   10  \n",
       "\n",
       "[96269 rows x 14 columns]"
      ]
     },
     "execution_count": 3,
     "metadata": {},
     "output_type": "execute_result"
    }
   ],
   "source": [
    "file = pd.read_csv(\"vehicle_trade_data.csv\")\n",
    "file"
   ]
  },
  {
   "cell_type": "code",
   "execution_count": 4,
   "id": "6024cab8",
   "metadata": {
    "collapsed": true
   },
   "outputs": [
    {
     "name": "stdout",
     "output_type": "stream",
     "text": [
      "<class 'pandas.core.frame.DataFrame'>\n",
      "RangeIndex: 96269 entries, 0 to 96268\n",
      "Data columns (total 14 columns):\n",
      " #   Column                 Non-Null Count  Dtype  \n",
      "---  ------                 --------------  -----  \n",
      " 0   public_reference       96269 non-null  int64  \n",
      " 1   mileage                96247 non-null  float64\n",
      " 2   reg_code               96257 non-null  object \n",
      " 3   standard_colour        96269 non-null  object \n",
      " 4   standard_make          96269 non-null  object \n",
      " 5   standard_model         96269 non-null  object \n",
      " 6   vehicle_condition      96269 non-null  object \n",
      " 7   year_of_registration   96269 non-null  float64\n",
      " 8   price                  96269 non-null  int64  \n",
      " 9   body_type              96269 non-null  object \n",
      " 10  crossover_car_and_van  96269 non-null  bool   \n",
      " 11  fuel_type              96269 non-null  object \n",
      " 12  make_model             96269 non-null  object \n",
      " 13  age                    96269 non-null  int64  \n",
      "dtypes: bool(1), float64(2), int64(3), object(8)\n",
      "memory usage: 6.7+ MB\n"
     ]
    }
   ],
   "source": [
    "file.info()"
   ]
  },
  {
   "cell_type": "code",
   "execution_count": 5,
   "id": "cebb7fd7",
   "metadata": {
    "collapsed": true
   },
   "outputs": [
    {
     "data": {
      "text/html": [
       "<div>\n",
       "<style scoped>\n",
       "    .dataframe tbody tr th:only-of-type {\n",
       "        vertical-align: middle;\n",
       "    }\n",
       "\n",
       "    .dataframe tbody tr th {\n",
       "        vertical-align: top;\n",
       "    }\n",
       "\n",
       "    .dataframe thead th {\n",
       "        text-align: right;\n",
       "    }\n",
       "</style>\n",
       "<table border=\"1\" class=\"dataframe\">\n",
       "  <thead>\n",
       "    <tr style=\"text-align: right;\">\n",
       "      <th></th>\n",
       "      <th>public_reference</th>\n",
       "      <th>mileage</th>\n",
       "      <th>year_of_registration</th>\n",
       "      <th>price</th>\n",
       "      <th>age</th>\n",
       "    </tr>\n",
       "  </thead>\n",
       "  <tbody>\n",
       "    <tr>\n",
       "      <th>count</th>\n",
       "      <td>9.626900e+04</td>\n",
       "      <td>96247.000000</td>\n",
       "      <td>96269.000000</td>\n",
       "      <td>96269.000000</td>\n",
       "      <td>96269.000000</td>\n",
       "    </tr>\n",
       "    <tr>\n",
       "      <th>mean</th>\n",
       "      <td>2.020082e+14</td>\n",
       "      <td>42964.067150</td>\n",
       "      <td>2015.096075</td>\n",
       "      <td>12266.081615</td>\n",
       "      <td>6.903925</td>\n",
       "    </tr>\n",
       "    <tr>\n",
       "      <th>std</th>\n",
       "      <td>1.194558e+10</td>\n",
       "      <td>34051.708175</td>\n",
       "      <td>3.766205</td>\n",
       "      <td>7414.823331</td>\n",
       "      <td>3.766205</td>\n",
       "    </tr>\n",
       "    <tr>\n",
       "      <th>min</th>\n",
       "      <td>2.014120e+14</td>\n",
       "      <td>0.000000</td>\n",
       "      <td>1962.000000</td>\n",
       "      <td>200.000000</td>\n",
       "      <td>2.000000</td>\n",
       "    </tr>\n",
       "    <tr>\n",
       "      <th>25%</th>\n",
       "      <td>2.020091e+14</td>\n",
       "      <td>17000.000000</td>\n",
       "      <td>2013.000000</td>\n",
       "      <td>6999.000000</td>\n",
       "      <td>4.000000</td>\n",
       "    </tr>\n",
       "    <tr>\n",
       "      <th>50%</th>\n",
       "      <td>2.020100e+14</td>\n",
       "      <td>34352.000000</td>\n",
       "      <td>2016.000000</td>\n",
       "      <td>11030.000000</td>\n",
       "      <td>6.000000</td>\n",
       "    </tr>\n",
       "    <tr>\n",
       "      <th>75%</th>\n",
       "      <td>2.020102e+14</td>\n",
       "      <td>62000.000000</td>\n",
       "      <td>2018.000000</td>\n",
       "      <td>15999.000000</td>\n",
       "      <td>9.000000</td>\n",
       "    </tr>\n",
       "    <tr>\n",
       "      <th>max</th>\n",
       "      <td>2.020110e+14</td>\n",
       "      <td>999999.000000</td>\n",
       "      <td>2020.000000</td>\n",
       "      <td>158500.000000</td>\n",
       "      <td>60.000000</td>\n",
       "    </tr>\n",
       "  </tbody>\n",
       "</table>\n",
       "</div>"
      ],
      "text/plain": [
       "       public_reference        mileage  year_of_registration          price  \\\n",
       "count      9.626900e+04   96247.000000          96269.000000   96269.000000   \n",
       "mean       2.020082e+14   42964.067150           2015.096075   12266.081615   \n",
       "std        1.194558e+10   34051.708175              3.766205    7414.823331   \n",
       "min        2.014120e+14       0.000000           1962.000000     200.000000   \n",
       "25%        2.020091e+14   17000.000000           2013.000000    6999.000000   \n",
       "50%        2.020100e+14   34352.000000           2016.000000   11030.000000   \n",
       "75%        2.020102e+14   62000.000000           2018.000000   15999.000000   \n",
       "max        2.020110e+14  999999.000000           2020.000000  158500.000000   \n",
       "\n",
       "                age  \n",
       "count  96269.000000  \n",
       "mean       6.903925  \n",
       "std        3.766205  \n",
       "min        2.000000  \n",
       "25%        4.000000  \n",
       "50%        6.000000  \n",
       "75%        9.000000  \n",
       "max       60.000000  "
      ]
     },
     "execution_count": 5,
     "metadata": {},
     "output_type": "execute_result"
    }
   ],
   "source": [
    "file.describe()"
   ]
  },
  {
   "cell_type": "code",
   "execution_count": 6,
   "id": "63d6dbf0",
   "metadata": {
    "collapsed": true
   },
   "outputs": [
    {
     "data": {
      "text/html": [
       "<div>\n",
       "<style scoped>\n",
       "    .dataframe tbody tr th:only-of-type {\n",
       "        vertical-align: middle;\n",
       "    }\n",
       "\n",
       "    .dataframe tbody tr th {\n",
       "        vertical-align: top;\n",
       "    }\n",
       "\n",
       "    .dataframe thead th {\n",
       "        text-align: right;\n",
       "    }\n",
       "</style>\n",
       "<table border=\"1\" class=\"dataframe\">\n",
       "  <thead>\n",
       "    <tr style=\"text-align: right;\">\n",
       "      <th></th>\n",
       "      <th>reg_code</th>\n",
       "      <th>standard_colour</th>\n",
       "      <th>standard_make</th>\n",
       "      <th>standard_model</th>\n",
       "      <th>vehicle_condition</th>\n",
       "      <th>body_type</th>\n",
       "      <th>fuel_type</th>\n",
       "      <th>make_model</th>\n",
       "    </tr>\n",
       "  </thead>\n",
       "  <tbody>\n",
       "    <tr>\n",
       "      <th>count</th>\n",
       "      <td>96257</td>\n",
       "      <td>96269</td>\n",
       "      <td>96269</td>\n",
       "      <td>96269</td>\n",
       "      <td>96269</td>\n",
       "      <td>96269</td>\n",
       "      <td>96269</td>\n",
       "      <td>96269</td>\n",
       "    </tr>\n",
       "    <tr>\n",
       "      <th>unique</th>\n",
       "      <td>58</td>\n",
       "      <td>5</td>\n",
       "      <td>11</td>\n",
       "      <td>19</td>\n",
       "      <td>1</td>\n",
       "      <td>5</td>\n",
       "      <td>2</td>\n",
       "      <td>19</td>\n",
       "    </tr>\n",
       "    <tr>\n",
       "      <th>top</th>\n",
       "      <td>17</td>\n",
       "      <td>Black</td>\n",
       "      <td>BMW</td>\n",
       "      <td>Golf</td>\n",
       "      <td>USED</td>\n",
       "      <td>Hatchback</td>\n",
       "      <td>Petrol</td>\n",
       "      <td>Volkswagen - Golf</td>\n",
       "    </tr>\n",
       "    <tr>\n",
       "      <th>freq</th>\n",
       "      <td>10218</td>\n",
       "      <td>26479</td>\n",
       "      <td>16585</td>\n",
       "      <td>8975</td>\n",
       "      <td>96269</td>\n",
       "      <td>59227</td>\n",
       "      <td>54805</td>\n",
       "      <td>8975</td>\n",
       "    </tr>\n",
       "  </tbody>\n",
       "</table>\n",
       "</div>"
      ],
      "text/plain": [
       "       reg_code standard_colour standard_make standard_model  \\\n",
       "count     96257           96269         96269          96269   \n",
       "unique       58               5            11             19   \n",
       "top          17           Black           BMW           Golf   \n",
       "freq      10218           26479         16585           8975   \n",
       "\n",
       "       vehicle_condition  body_type fuel_type         make_model  \n",
       "count              96269      96269     96269              96269  \n",
       "unique                 1          5         2                 19  \n",
       "top                 USED  Hatchback    Petrol  Volkswagen - Golf  \n",
       "freq               96269      59227     54805               8975  "
      ]
     },
     "execution_count": 6,
     "metadata": {},
     "output_type": "execute_result"
    }
   ],
   "source": [
    "file.describe(include = [\"O\"])"
   ]
  },
  {
   "cell_type": "code",
   "execution_count": 7,
   "id": "64bd6931",
   "metadata": {},
   "outputs": [
    {
     "data": {
      "text/plain": [
       "array(['Petrol', 'Diesel'], dtype=object)"
      ]
     },
     "execution_count": 7,
     "metadata": {},
     "output_type": "execute_result"
    }
   ],
   "source": [
    "file.fuel_type.unique()"
   ]
  },
  {
   "cell_type": "code",
   "execution_count": 8,
   "id": "4d5aa52b",
   "metadata": {},
   "outputs": [
    {
     "data": {
      "text/plain": [
       "Petrol    54805\n",
       "Diesel    41464\n",
       "Name: fuel_type, dtype: int64"
      ]
     },
     "execution_count": 8,
     "metadata": {},
     "output_type": "execute_result"
    }
   ],
   "source": [
    "values_of_fuel_type = file.fuel_type.value_counts()\n",
    "values_of_fuel_type"
   ]
  },
  {
   "cell_type": "code",
   "execution_count": 9,
   "id": "80125e93",
   "metadata": {},
   "outputs": [
    {
     "data": {
      "text/plain": [
       "<BarContainer object of 2 artists>"
      ]
     },
     "execution_count": 9,
     "metadata": {},
     "output_type": "execute_result"
    },
    {
     "data": {
      "image/png": "[encoded data removed]",
      "text/plain": [
       "<Figure size 432x288 with 1 Axes>"
      ]
     },
     "metadata": {
      "needs_background": "light"
     },
     "output_type": "display_data"
    }
   ],
   "source": [
    "plt.bar(values_of_fuel_type.index, values_of_fuel_type)"
   ]
  },
  {
   "cell_type": "code",
   "execution_count": 10,
   "id": "17c313fe",
   "metadata": {},
   "outputs": [
    {
     "data": {
      "text/plain": [
       "<BarContainer object of 2 artists>"
      ]
     },
     "execution_count": 10,
     "metadata": {},
     "output_type": "execute_result"
    },
    {
     "data": {
      "image/png": "[encoded data removed]",
      "text/plain": [
       "<Figure size 432x288 with 1 Axes>"
      ]
     },
     "metadata": {
      "needs_background": "light"
     },
     "output_type": "display_data"
    }
   ],
   "source": [
    "plt.barh(values_of_fuel_type.index, values_of_fuel_type)"
   ]
  },
  {
   "cell_type": "code",
   "execution_count": 11,
   "id": "848a7f23",
   "metadata": {},
   "outputs": [
    {
     "data": {
      "text/plain": [
       "<matplotlib.collections.PathCollection at 0x649b830>"
      ]
     },
     "execution_count": 11,
     "metadata": {},
     "output_type": "execute_result"
    },
    {
     "data": {
      "image/png": "[encoded data removed]",
      "text/plain": [
       "<Figure size 432x288 with 1 Axes>"
      ]
     },
     "metadata": {
      "needs_background": "light"
     },
     "output_type": "display_data"
    }
   ],
   "source": [
    "plt.scatter(values_of_fuel_type.index, values_of_fuel_type)"
   ]
  },
  {
   "cell_type": "code",
   "execution_count": 12,
   "id": "d8beed2a",
   "metadata": {},
   "outputs": [
    {
     "data": {
      "text/plain": [
       "array(['Hatchback', 'Estate', 'Saloon', 'SUV', 'Coupe'], dtype=object)"
      ]
     },
     "execution_count": 12,
     "metadata": {},
     "output_type": "execute_result"
    }
   ],
   "source": [
    "file.body_type.unique()"
   ]
  },
  {
   "cell_type": "code",
   "execution_count": 13,
   "id": "3774055f",
   "metadata": {},
   "outputs": [
    {
     "data": {
      "text/plain": [
       "Hatchback    59227\n",
       "Saloon       14235\n",
       "SUV          13202\n",
       "Estate        6095\n",
       "Coupe         3510\n",
       "Name: body_type, dtype: int64"
      ]
     },
     "execution_count": 13,
     "metadata": {},
     "output_type": "execute_result"
    }
   ],
   "source": [
    "values_of_body_type = file.body_type.value_counts()\n",
    "values_of_body_type"
   ]
  },
  {
   "cell_type": "code",
   "execution_count": 14,
   "id": "f5b396e5",
   "metadata": {},
   "outputs": [
    {
     "data": {
      "text/plain": [
       "<BarContainer object of 5 artists>"
      ]
     },
     "execution_count": 14,
     "metadata": {},
     "output_type": "execute_result"
    },
    {
     "data": {
      "image/png": "[encoded data removed]",
      "text/plain": [
       "<Figure size 432x288 with 1 Axes>"
      ]
     },
     "metadata": {
      "needs_background": "light"
     },
     "output_type": "display_data"
    }
   ],
   "source": [
    "plt.barh(values_of_body_type.index, values_of_body_type, color = ['b', 'y', 'g', 'r', 'grey'])"
   ]
  },
  {
   "cell_type": "code",
   "execution_count": 15,
   "id": "56a5350e",
   "metadata": {},
   "outputs": [
    {
     "data": {
      "text/plain": [
       "<BarContainer object of 5 artists>"
      ]
     },
     "execution_count": 15,
     "metadata": {},
     "output_type": "execute_result"
    },
    {
     "data": {
      "image/png": "[encoded data removed]",
      "text/plain": [
       "<Figure size 432x288 with 1 Axes>"
      ]
     },
     "metadata": {
      "needs_background": "light"
     },
     "output_type": "display_data"
    }
   ],
   "source": [
    "plt.bar(values_of_body_type.index, values_of_body_type)"
   ]
  },
  {
   "cell_type": "code",
   "execution_count": 16,
   "id": "05b1856d",
   "metadata": {},
   "outputs": [
    {
     "data": {
      "text/plain": [
       "array(['Grey', 'Blue', 'Black', 'Silver', 'White'], dtype=object)"
      ]
     },
     "execution_count": 16,
     "metadata": {},
     "output_type": "execute_result"
    }
   ],
   "source": [
    "file.standard_colour.unique()"
   ]
  },
  {
   "cell_type": "code",
   "execution_count": 17,
   "id": "9da14ef7",
   "metadata": {},
   "outputs": [
    {
     "data": {
      "text/plain": [
       "Black     26479\n",
       "White     21326\n",
       "Grey      16986\n",
       "Silver    15767\n",
       "Blue      15711\n",
       "Name: standard_colour, dtype: int64"
      ]
     },
     "execution_count": 17,
     "metadata": {},
     "output_type": "execute_result"
    }
   ],
   "source": [
    "values_standard_colour = file.standard_colour.value_counts()\n",
    "values_standard_colour"
   ]
  },
  {
   "cell_type": "code",
   "execution_count": 18,
   "id": "516cccd4",
   "metadata": {},
   "outputs": [
    {
     "data": {
      "text/plain": [
       "<BarContainer object of 5 artists>"
      ]
     },
     "execution_count": 18,
     "metadata": {},
     "output_type": "execute_result"
    },
    {
     "data": {
      "image/png": "[encoded data removed]",
      "text/plain": [
       "<Figure size 432x288 with 1 Axes>"
      ]
     },
     "metadata": {
      "needs_background": "light"
     },
     "output_type": "display_data"
    }
   ],
   "source": [
    "plt.bar(values_standard_colour.index, values_standard_colour, color = \"brown\")"
   ]
  },
  {
   "cell_type": "code",
   "execution_count": 19,
   "id": "fa757ee4",
   "metadata": {},
   "outputs": [
    {
     "data": {
      "text/plain": [
       "<matplotlib.collections.PathCollection at 0x6587e50>"
      ]
     },
     "execution_count": 19,
     "metadata": {},
     "output_type": "execute_result"
    },
    {
     "data": {
      "image/png": "[encoded data removed]",
      "text/plain": [
       "<Figure size 432x288 with 1 Axes>"
      ]
     },
     "metadata": {
      "needs_background": "light"
     },
     "output_type": "display_data"
    }
   ],
   "source": [
    "plt.scatter(values_standard_colour.index, values_standard_colour, color = \"brown\")"
   ]
  },
  {
   "cell_type": "code",
   "execution_count": 20,
   "id": "fcc06264",
   "metadata": {},
   "outputs": [
    {
     "data": {
      "text/plain": [
       "<BarContainer object of 5 artists>"
      ]
     },
     "execution_count": 20,
     "metadata": {},
     "output_type": "execute_result"
    },
    {
     "data": {
      "image/png": "[encoded data removed]",
      "text/plain": [
       "<Figure size 432x288 with 1 Axes>"
      ]
     },
     "metadata": {
      "needs_background": "light"
     },
     "output_type": "display_data"
    }
   ],
   "source": [
    "plt.barh(values_standard_colour.index, values_standard_colour, color = \"brown\")"
   ]
  },
  {
   "cell_type": "code",
   "execution_count": 21,
   "id": "0ae80037",
   "metadata": {},
   "outputs": [
    {
     "data": {
      "text/plain": [
       "<matplotlib.collections.PathCollection at 0xd0914d0>"
      ]
     },
     "execution_count": 21,
     "metadata": {},
     "output_type": "execute_result"
    },
    {
     "data": {
      "image/png": "[encoded data removed]",
      "text/plain": [
       "<Figure size 432x288 with 1 Axes>"
      ]
     },
     "metadata": {
      "needs_background": "light"
     },
     "output_type": "display_data"
    }
   ],
   "source": [
    "plt.scatter(file.price, file.mileage, color = 'g')"
   ]
  },
  {
   "cell_type": "code",
   "execution_count": 27,
   "id": "5e4997a3",
   "metadata": {},
   "outputs": [],
   "source": [
    "petrol = file[file[\"fuel_type\"] == \"Petrol\"]\n",
    "diesel = file[file[\"fuel_type\"] == \"Diesel\"]"
   ]
  },
  {
   "cell_type": "code",
   "execution_count": 29,
   "id": "96eb3717",
   "metadata": {},
   "outputs": [
    {
     "data": {
      "text/plain": [
       "Text(0, 0.5, 'mileage')"
      ]
     },
     "execution_count": 29,
     "metadata": {},
     "output_type": "execute_result"
    },
    {
     "data": {
      "image/png": "[encoded data removed]",
      "text/plain": [
       "<Figure size 432x288 with 1 Axes>"
      ]
     },
     "metadata": {
      "needs_background": "light"
     },
     "output_type": "display_data"
    }
   ],
   "source": [
    "plt.scatter(diesel.price, diesel.mileage, color = 'g', label = \"petrol\")\n",
    "plt.scatter(petrol.price, petrol.mileage, color = 'r', label= \"diesel\")\n",
    "plt.legend()\n",
    "plt.xlabel(\"price\")\n",
    "plt.ylabel(\"mileage\")"
   ]
  },
  {
   "cell_type": "code",
   "execution_count": null,
   "id": "db4d554d",
   "metadata": {},
   "outputs": [],
   "source": []
  }
 ],
 "metadata": {
  "kernelspec": {
   "display_name": "Python 3 (ipykernel)",
   "language": "python",
   "name": "python3"
  },
  "language_info": {
   "codemirror_mode": {
    "name": "ipython",
    "version": 3
   },
   "file_extension": ".py",
   "mimetype": "text/x-python",
   "name": "python",
   "nbconvert_exporter": "python",
   "pygments_lexer": "ipython3",
   "version": "3.7.9"
  }
 },
 "nbformat": 4,
 "nbformat_minor": 5
}
